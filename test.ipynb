{
 "cells": [
  {
   "cell_type": "code",
   "execution_count": 1,
   "id": "c9e1fa0b",
   "metadata": {},
   "outputs": [],
   "source": [
    "#!py -m pip install pyodbc pandas db-dtypes\n",
    "#!py -m pip install google-cloud-bigquery google-auth google-auth-oauthlib pandas_gbq"
   ]
  },
  {
   "cell_type": "code",
   "execution_count": 2,
   "id": "f853a18c",
   "metadata": {},
   "outputs": [],
   "source": [
    "import pyodbc\n",
    "import pandas as pd\n",
    "import pandas_gbq\n",
    "import json\n",
    "from google.cloud import bigquery\n",
    "from google.api_core.exceptions import NotFound"
   ]
  },
  {
   "cell_type": "code",
   "execution_count": 3,
   "id": "59e049d2",
   "metadata": {},
   "outputs": [],
   "source": [
    "# Open and read the JSON file\n",
    "with open('config/mom_db_config.json', 'r') as file:\n",
    "    mom_db_config = json.load(file)"
   ]
  },
  {
   "cell_type": "code",
   "execution_count": 4,
   "id": "91973b9b",
   "metadata": {},
   "outputs": [],
   "source": [
    "MOM_CONN_STR = (\n",
    "    f\"{mom_db_config['driver']}\"\n",
    "    f\"{mom_db_config['server']}\"\n",
    "    f\"{mom_db_config['database']}\"\n",
    "    f\"{mom_db_config['user']}\"\n",
    "    f\"{mom_db_config['password']}\"\n",
    ")\n",
    "PROJECT_ID = \"sturdy-tome-468208-k2\"\n",
    "DATASET_ID = \"dev\"\n",
    "TABLE_IDS = {\n",
    "    \"orders\" : \"orders\"\n",
    "}"
   ]
  },
  {
   "cell_type": "code",
   "execution_count": 5,
   "id": "127e12d1",
   "metadata": {},
   "outputs": [],
   "source": [
    "# Create connection\n",
    "mom_conn = pyodbc.connect(MOM_CONN_STR)"
   ]
  },
  {
   "cell_type": "code",
   "execution_count": 6,
   "id": "fb830533",
   "metadata": {},
   "outputs": [],
   "source": [
    "# Initialize client (uses default credentials)\n",
    "bq_client = bigquery.Client(project=PROJECT_ID)"
   ]
  },
  {
   "cell_type": "code",
   "execution_count": null,
   "id": "5e0bbe21",
   "metadata": {},
   "outputs": [
    {
     "name": "stderr",
     "output_type": "stream",
     "text": [
      "c:\\Users\\danny.sloan\\AppData\\Local\\Programs\\Python\\Python313\\Lib\\site-packages\\google\\cloud\\bigquery\\table.py:1965: UserWarning: BigQuery Storage module not found, fetch data with the REST endpoint instead.\n",
      "  warnings.warn(\n"
     ]
    }
   ],
   "source": [
    "# Get the latest order id\n",
    "query = f\"\"\"\n",
    "    SELECT MAX(order_id) AS max_id FROM `{DATASET_ID}.{TABLE_IDS['orders']}` \n",
    "\"\"\"\n",
    "max_id = None\n",
    "try :\n",
    "    # Run query and return results as a DataFrame\n",
    "    df = bq_client.query(query).to_dataframe()\n",
    "    if len(df) > 0 :\n",
    "        # Fetch the id - it has ot be a float as thats what the col is in MOM\n",
    "        max_id = float(df.iloc[0]['max_id'])\n",
    "except NotFound:\n",
    "    print(f\"Table not found: {TABLE_IDS['orders']}\")"
   ]
  },
  {
   "cell_type": "code",
   "execution_count": 8,
   "id": "2b0475d3",
   "metadata": {},
   "outputs": [
    {
     "data": {
      "text/plain": [
       "np.int64(1588634)"
      ]
     },
     "execution_count": 8,
     "metadata": {},
     "output_type": "execute_result"
    }
   ],
   "source": [
    "max_id"
   ]
  },
  {
   "cell_type": "code",
   "execution_count": null,
   "id": "738b464c",
   "metadata": {},
   "outputs": [
    {
     "name": "stderr",
     "output_type": "stream",
     "text": [
      "C:\\Users\\danny.sloan\\AppData\\Local\\Temp\\ipykernel_30764\\3755343262.py:21: UserWarning: pandas only supports SQLAlchemy connectable (engine/connection) or database string URI or sqlite3 DBAPI2 connection. Other DBAPI2 objects are not tested. Please consider using SQLAlchemy.\n",
      "  df = pd.read_sql(query, mom_conn, params = params)\n"
     ]
    },
    {
     "ename": "DatabaseError",
     "evalue": "Execution failed on sql '\n    SELECT\n        orderno AS order_id,\n        custnum AS customer_id,\n        entrytime AS entry_time,\n        ord_total AS order_total\n        FROM CMS \n         WHERE orderno > ? \n        ORDER BY order_id ASC\n': ('Invalid parameter type.  param-index=0 param-type=numpy.int64', 'HY105')",
     "output_type": "error",
     "traceback": [
      "\u001b[31m---------------------------------------------------------------------------\u001b[39m",
      "\u001b[31mProgrammingError\u001b[39m                          Traceback (most recent call last)",
      "\u001b[36mFile \u001b[39m\u001b[32mc:\\Users\\danny.sloan\\AppData\\Local\\Programs\\Python\\Python313\\Lib\\site-packages\\pandas\\io\\sql.py:2664\u001b[39m, in \u001b[36mSQLiteDatabase.execute\u001b[39m\u001b[34m(self, sql, params)\u001b[39m\n\u001b[32m   2663\u001b[39m \u001b[38;5;28;01mtry\u001b[39;00m:\n\u001b[32m-> \u001b[39m\u001b[32m2664\u001b[39m     \u001b[43mcur\u001b[49m\u001b[43m.\u001b[49m\u001b[43mexecute\u001b[49m\u001b[43m(\u001b[49m\u001b[43msql\u001b[49m\u001b[43m,\u001b[49m\u001b[43m \u001b[49m\u001b[43m*\u001b[49m\u001b[43margs\u001b[49m\u001b[43m)\u001b[49m\n\u001b[32m   2665\u001b[39m     \u001b[38;5;28;01mreturn\u001b[39;00m cur\n",
      "\u001b[31mProgrammingError\u001b[39m: ('Invalid parameter type.  param-index=0 param-type=numpy.int64', 'HY105')",
      "\nThe above exception was the direct cause of the following exception:\n",
      "\u001b[31mDatabaseError\u001b[39m                             Traceback (most recent call last)",
      "\u001b[36mCell\u001b[39m\u001b[36m \u001b[39m\u001b[32mIn[9]\u001b[39m\u001b[32m, line 21\u001b[39m\n\u001b[32m      8\u001b[39m     parms_str = \u001b[33m\"\u001b[39m\u001b[33m WHERE orderno > ? \u001b[39m\u001b[33m\"\u001b[39m\n\u001b[32m     10\u001b[39m query = \u001b[33mf\u001b[39m\u001b[33m\"\"\"\u001b[39m\n\u001b[32m     11\u001b[39m \u001b[33m    SELECT\u001b[39m\n\u001b[32m     12\u001b[39m \u001b[33m        orderno AS order_id,\u001b[39m\n\u001b[32m   (...)\u001b[39m\u001b[32m     18\u001b[39m \u001b[33m        ORDER BY order_id ASC\u001b[39m\n\u001b[32m     19\u001b[39m \u001b[33m\"\"\"\u001b[39m\n\u001b[32m---> \u001b[39m\u001b[32m21\u001b[39m df = \u001b[43mpd\u001b[49m\u001b[43m.\u001b[49m\u001b[43mread_sql\u001b[49m\u001b[43m(\u001b[49m\u001b[43mquery\u001b[49m\u001b[43m,\u001b[49m\u001b[43m \u001b[49m\u001b[43mmom_conn\u001b[49m\u001b[43m,\u001b[49m\u001b[43m \u001b[49m\u001b[43mparams\u001b[49m\u001b[43m \u001b[49m\u001b[43m=\u001b[49m\u001b[43m \u001b[49m\u001b[43mparams\u001b[49m\u001b[43m)\u001b[49m\n",
      "\u001b[36mFile \u001b[39m\u001b[32mc:\\Users\\danny.sloan\\AppData\\Local\\Programs\\Python\\Python313\\Lib\\site-packages\\pandas\\io\\sql.py:708\u001b[39m, in \u001b[36mread_sql\u001b[39m\u001b[34m(sql, con, index_col, coerce_float, params, parse_dates, columns, chunksize, dtype_backend, dtype)\u001b[39m\n\u001b[32m    706\u001b[39m \u001b[38;5;28;01mwith\u001b[39;00m pandasSQL_builder(con) \u001b[38;5;28;01mas\u001b[39;00m pandas_sql:\n\u001b[32m    707\u001b[39m     \u001b[38;5;28;01mif\u001b[39;00m \u001b[38;5;28misinstance\u001b[39m(pandas_sql, SQLiteDatabase):\n\u001b[32m--> \u001b[39m\u001b[32m708\u001b[39m         \u001b[38;5;28;01mreturn\u001b[39;00m \u001b[43mpandas_sql\u001b[49m\u001b[43m.\u001b[49m\u001b[43mread_query\u001b[49m\u001b[43m(\u001b[49m\n\u001b[32m    709\u001b[39m \u001b[43m            \u001b[49m\u001b[43msql\u001b[49m\u001b[43m,\u001b[49m\n\u001b[32m    710\u001b[39m \u001b[43m            \u001b[49m\u001b[43mindex_col\u001b[49m\u001b[43m=\u001b[49m\u001b[43mindex_col\u001b[49m\u001b[43m,\u001b[49m\n\u001b[32m    711\u001b[39m \u001b[43m            \u001b[49m\u001b[43mparams\u001b[49m\u001b[43m=\u001b[49m\u001b[43mparams\u001b[49m\u001b[43m,\u001b[49m\n\u001b[32m    712\u001b[39m \u001b[43m            \u001b[49m\u001b[43mcoerce_float\u001b[49m\u001b[43m=\u001b[49m\u001b[43mcoerce_float\u001b[49m\u001b[43m,\u001b[49m\n\u001b[32m    713\u001b[39m \u001b[43m            \u001b[49m\u001b[43mparse_dates\u001b[49m\u001b[43m=\u001b[49m\u001b[43mparse_dates\u001b[49m\u001b[43m,\u001b[49m\n\u001b[32m    714\u001b[39m \u001b[43m            \u001b[49m\u001b[43mchunksize\u001b[49m\u001b[43m=\u001b[49m\u001b[43mchunksize\u001b[49m\u001b[43m,\u001b[49m\n\u001b[32m    715\u001b[39m \u001b[43m            \u001b[49m\u001b[43mdtype_backend\u001b[49m\u001b[43m=\u001b[49m\u001b[43mdtype_backend\u001b[49m\u001b[43m,\u001b[49m\n\u001b[32m    716\u001b[39m \u001b[43m            \u001b[49m\u001b[43mdtype\u001b[49m\u001b[43m=\u001b[49m\u001b[43mdtype\u001b[49m\u001b[43m,\u001b[49m\n\u001b[32m    717\u001b[39m \u001b[43m        \u001b[49m\u001b[43m)\u001b[49m\n\u001b[32m    719\u001b[39m     \u001b[38;5;28;01mtry\u001b[39;00m:\n\u001b[32m    720\u001b[39m         _is_table_name = pandas_sql.has_table(sql)\n",
      "\u001b[36mFile \u001b[39m\u001b[32mc:\\Users\\danny.sloan\\AppData\\Local\\Programs\\Python\\Python313\\Lib\\site-packages\\pandas\\io\\sql.py:2728\u001b[39m, in \u001b[36mSQLiteDatabase.read_query\u001b[39m\u001b[34m(self, sql, index_col, coerce_float, parse_dates, params, chunksize, dtype, dtype_backend)\u001b[39m\n\u001b[32m   2717\u001b[39m \u001b[38;5;28;01mdef\u001b[39;00m\u001b[38;5;250m \u001b[39m\u001b[34mread_query\u001b[39m(\n\u001b[32m   2718\u001b[39m     \u001b[38;5;28mself\u001b[39m,\n\u001b[32m   2719\u001b[39m     sql,\n\u001b[32m   (...)\u001b[39m\u001b[32m   2726\u001b[39m     dtype_backend: DtypeBackend | Literal[\u001b[33m\"\u001b[39m\u001b[33mnumpy\u001b[39m\u001b[33m\"\u001b[39m] = \u001b[33m\"\u001b[39m\u001b[33mnumpy\u001b[39m\u001b[33m\"\u001b[39m,\n\u001b[32m   2727\u001b[39m ) -> DataFrame | Iterator[DataFrame]:\n\u001b[32m-> \u001b[39m\u001b[32m2728\u001b[39m     cursor = \u001b[38;5;28;43mself\u001b[39;49m\u001b[43m.\u001b[49m\u001b[43mexecute\u001b[49m\u001b[43m(\u001b[49m\u001b[43msql\u001b[49m\u001b[43m,\u001b[49m\u001b[43m \u001b[49m\u001b[43mparams\u001b[49m\u001b[43m)\u001b[49m\n\u001b[32m   2729\u001b[39m     columns = [col_desc[\u001b[32m0\u001b[39m] \u001b[38;5;28;01mfor\u001b[39;00m col_desc \u001b[38;5;129;01min\u001b[39;00m cursor.description]\n\u001b[32m   2731\u001b[39m     \u001b[38;5;28;01mif\u001b[39;00m chunksize \u001b[38;5;129;01mis\u001b[39;00m \u001b[38;5;129;01mnot\u001b[39;00m \u001b[38;5;28;01mNone\u001b[39;00m:\n",
      "\u001b[36mFile \u001b[39m\u001b[32mc:\\Users\\danny.sloan\\AppData\\Local\\Programs\\Python\\Python313\\Lib\\site-packages\\pandas\\io\\sql.py:2676\u001b[39m, in \u001b[36mSQLiteDatabase.execute\u001b[39m\u001b[34m(self, sql, params)\u001b[39m\n\u001b[32m   2673\u001b[39m     \u001b[38;5;28;01mraise\u001b[39;00m ex \u001b[38;5;28;01mfrom\u001b[39;00m\u001b[38;5;250m \u001b[39m\u001b[34;01minner_exc\u001b[39;00m\n\u001b[32m   2675\u001b[39m ex = DatabaseError(\u001b[33mf\u001b[39m\u001b[33m\"\u001b[39m\u001b[33mExecution failed on sql \u001b[39m\u001b[33m'\u001b[39m\u001b[38;5;132;01m{\u001b[39;00msql\u001b[38;5;132;01m}\u001b[39;00m\u001b[33m'\u001b[39m\u001b[33m: \u001b[39m\u001b[38;5;132;01m{\u001b[39;00mexc\u001b[38;5;132;01m}\u001b[39;00m\u001b[33m\"\u001b[39m)\n\u001b[32m-> \u001b[39m\u001b[32m2676\u001b[39m \u001b[38;5;28;01mraise\u001b[39;00m ex \u001b[38;5;28;01mfrom\u001b[39;00m\u001b[38;5;250m \u001b[39m\u001b[34;01mexc\u001b[39;00m\n",
      "\u001b[31mDatabaseError\u001b[39m: Execution failed on sql '\n    SELECT\n        orderno AS order_id,\n        custnum AS customer_id,\n        entrytime AS entry_time,\n        ord_total AS order_total\n        FROM CMS \n         WHERE orderno > ? \n        ORDER BY order_id ASC\n': ('Invalid parameter type.  param-index=0 param-type=numpy.int64', 'HY105')"
     ]
    }
   ],
   "source": [
    "\n",
    "params = []\n",
    "parms_str = \"\"\n",
    "if max_id is not None:\n",
    "    params = [max_id]\n",
    "    parms_str = \" WHERE orderno > ? \"\n",
    "\n",
    "query = f\"\"\"\n",
    "    SELECT\n",
    "        orderno AS order_id,\n",
    "        custnum AS customer_id,\n",
    "        entrytime AS entry_time,\n",
    "        ord_total AS order_total\n",
    "        FROM CMS \n",
    "        {parms_str}\n",
    "        ORDER BY order_id ASC\n",
    "\"\"\"\n",
    "\n",
    "df = pd.read_sql(query, mom_conn, params = params)"
   ]
  },
  {
   "cell_type": "code",
   "execution_count": null,
   "id": "23410c63",
   "metadata": {},
   "outputs": [],
   "source": [
    "# Convert ids to integers\n",
    "df['order_id'] = df['order_id'].astype(int)\n",
    "df['customer_id'] = df['customer_id'].astype(int)"
   ]
  },
  {
   "cell_type": "code",
   "execution_count": null,
   "id": "4ac5a098",
   "metadata": {},
   "outputs": [
    {
     "data": {
      "text/plain": [
       "(1510069, 4)"
      ]
     },
     "execution_count": 11,
     "metadata": {},
     "output_type": "execute_result"
    }
   ],
   "source": [
    "df.shape"
   ]
  },
  {
   "cell_type": "code",
   "execution_count": null,
   "id": "f0dfba0a",
   "metadata": {},
   "outputs": [
    {
     "data": {
      "text/html": [
       "<div>\n",
       "<style scoped>\n",
       "    .dataframe tbody tr th:only-of-type {\n",
       "        vertical-align: middle;\n",
       "    }\n",
       "\n",
       "    .dataframe tbody tr th {\n",
       "        vertical-align: top;\n",
       "    }\n",
       "\n",
       "    .dataframe thead th {\n",
       "        text-align: right;\n",
       "    }\n",
       "</style>\n",
       "<table border=\"1\" class=\"dataframe\">\n",
       "  <thead>\n",
       "    <tr style=\"text-align: right;\">\n",
       "      <th></th>\n",
       "      <th>order_id</th>\n",
       "      <th>customer_id</th>\n",
       "      <th>entry_time</th>\n",
       "      <th>order_total</th>\n",
       "    </tr>\n",
       "  </thead>\n",
       "  <tbody>\n",
       "    <tr>\n",
       "      <th>1510059</th>\n",
       "      <td>1588625</td>\n",
       "      <td>880630</td>\n",
       "      <td>2025-08-06 15:25:19</td>\n",
       "      <td>55.00</td>\n",
       "    </tr>\n",
       "    <tr>\n",
       "      <th>1510060</th>\n",
       "      <td>1588626</td>\n",
       "      <td>912848</td>\n",
       "      <td>2025-08-06 15:26:10</td>\n",
       "      <td>91.67</td>\n",
       "    </tr>\n",
       "    <tr>\n",
       "      <th>1510061</th>\n",
       "      <td>1588627</td>\n",
       "      <td>793367</td>\n",
       "      <td>2025-08-06 15:30:10</td>\n",
       "      <td>105.00</td>\n",
       "    </tr>\n",
       "    <tr>\n",
       "      <th>1510062</th>\n",
       "      <td>1588628</td>\n",
       "      <td>455877</td>\n",
       "      <td>2025-08-06 15:35:55</td>\n",
       "      <td>105.00</td>\n",
       "    </tr>\n",
       "    <tr>\n",
       "      <th>1510063</th>\n",
       "      <td>1588629</td>\n",
       "      <td>726896</td>\n",
       "      <td>2025-08-06 15:32:12</td>\n",
       "      <td>130.00</td>\n",
       "    </tr>\n",
       "    <tr>\n",
       "      <th>1510064</th>\n",
       "      <td>1588630</td>\n",
       "      <td>773658</td>\n",
       "      <td>2025-08-06 15:31:40</td>\n",
       "      <td>60.00</td>\n",
       "    </tr>\n",
       "    <tr>\n",
       "      <th>1510065</th>\n",
       "      <td>1588631</td>\n",
       "      <td>237907</td>\n",
       "      <td>2025-08-06 15:34:33</td>\n",
       "      <td>125.00</td>\n",
       "    </tr>\n",
       "    <tr>\n",
       "      <th>1510066</th>\n",
       "      <td>1588632</td>\n",
       "      <td>935857</td>\n",
       "      <td>2025-08-06 15:41:14</td>\n",
       "      <td>35.00</td>\n",
       "    </tr>\n",
       "    <tr>\n",
       "      <th>1510067</th>\n",
       "      <td>1588633</td>\n",
       "      <td>509752</td>\n",
       "      <td>2025-08-06 15:43:32</td>\n",
       "      <td>105.00</td>\n",
       "    </tr>\n",
       "    <tr>\n",
       "      <th>1510068</th>\n",
       "      <td>1588634</td>\n",
       "      <td>935858</td>\n",
       "      <td>2025-08-06 15:46:37</td>\n",
       "      <td>320.00</td>\n",
       "    </tr>\n",
       "  </tbody>\n",
       "</table>\n",
       "</div>"
      ],
      "text/plain": [
       "         order_id  customer_id          entry_time  order_total\n",
       "1510059   1588625       880630 2025-08-06 15:25:19        55.00\n",
       "1510060   1588626       912848 2025-08-06 15:26:10        91.67\n",
       "1510061   1588627       793367 2025-08-06 15:30:10       105.00\n",
       "1510062   1588628       455877 2025-08-06 15:35:55       105.00\n",
       "1510063   1588629       726896 2025-08-06 15:32:12       130.00\n",
       "1510064   1588630       773658 2025-08-06 15:31:40        60.00\n",
       "1510065   1588631       237907 2025-08-06 15:34:33       125.00\n",
       "1510066   1588632       935857 2025-08-06 15:41:14        35.00\n",
       "1510067   1588633       509752 2025-08-06 15:43:32       105.00\n",
       "1510068   1588634       935858 2025-08-06 15:46:37       320.00"
      ]
     },
     "execution_count": 12,
     "metadata": {},
     "output_type": "execute_result"
    }
   ],
   "source": [
    "df.tail(10)"
   ]
  },
  {
   "cell_type": "code",
   "execution_count": null,
   "id": "19faa72b",
   "metadata": {},
   "outputs": [
    {
     "name": "stderr",
     "output_type": "stream",
     "text": [
      "C:\\Users\\danny.sloan\\AppData\\Local\\Temp\\ipykernel_23964\\1582709845.py:3: FutureWarning: Series.fillna with 'method' is deprecated and will raise in a future version. Use obj.ffill() or obj.bfill() instead.\n",
      "  df['entry_time'] = df['entry_time'].fillna(method='ffill')  # forward-fill\n"
     ]
    }
   ],
   "source": [
    "# We need to fix the null entrytimes, just backwards fill from the previous seen entrytime\n",
    "df['entry_time'] = pd.to_datetime(df['entry_time'], errors='coerce')  # ensure datetime type\n",
    "df['entry_time'] = df['entry_time'].fillna(method='ffill')  # forward-fill"
   ]
  },
  {
   "cell_type": "code",
   "execution_count": null,
   "id": "ae29bf9c",
   "metadata": {},
   "outputs": [
    {
     "data": {
      "text/html": [
       "<div>\n",
       "<style scoped>\n",
       "    .dataframe tbody tr th:only-of-type {\n",
       "        vertical-align: middle;\n",
       "    }\n",
       "\n",
       "    .dataframe tbody tr th {\n",
       "        vertical-align: top;\n",
       "    }\n",
       "\n",
       "    .dataframe thead th {\n",
       "        text-align: right;\n",
       "    }\n",
       "</style>\n",
       "<table border=\"1\" class=\"dataframe\">\n",
       "  <thead>\n",
       "    <tr style=\"text-align: right;\">\n",
       "      <th></th>\n",
       "      <th>order_id</th>\n",
       "      <th>customer_id</th>\n",
       "      <th>entry_time</th>\n",
       "      <th>order_total</th>\n",
       "    </tr>\n",
       "  </thead>\n",
       "  <tbody>\n",
       "    <tr>\n",
       "      <th>1510059</th>\n",
       "      <td>1588625</td>\n",
       "      <td>880630</td>\n",
       "      <td>2025-08-06 15:25:19</td>\n",
       "      <td>55.00</td>\n",
       "    </tr>\n",
       "    <tr>\n",
       "      <th>1510060</th>\n",
       "      <td>1588626</td>\n",
       "      <td>912848</td>\n",
       "      <td>2025-08-06 15:26:10</td>\n",
       "      <td>91.67</td>\n",
       "    </tr>\n",
       "    <tr>\n",
       "      <th>1510061</th>\n",
       "      <td>1588627</td>\n",
       "      <td>793367</td>\n",
       "      <td>2025-08-06 15:30:10</td>\n",
       "      <td>105.00</td>\n",
       "    </tr>\n",
       "    <tr>\n",
       "      <th>1510062</th>\n",
       "      <td>1588628</td>\n",
       "      <td>455877</td>\n",
       "      <td>2025-08-06 15:35:55</td>\n",
       "      <td>105.00</td>\n",
       "    </tr>\n",
       "    <tr>\n",
       "      <th>1510063</th>\n",
       "      <td>1588629</td>\n",
       "      <td>726896</td>\n",
       "      <td>2025-08-06 15:32:12</td>\n",
       "      <td>130.00</td>\n",
       "    </tr>\n",
       "    <tr>\n",
       "      <th>1510064</th>\n",
       "      <td>1588630</td>\n",
       "      <td>773658</td>\n",
       "      <td>2025-08-06 15:31:40</td>\n",
       "      <td>60.00</td>\n",
       "    </tr>\n",
       "    <tr>\n",
       "      <th>1510065</th>\n",
       "      <td>1588631</td>\n",
       "      <td>237907</td>\n",
       "      <td>2025-08-06 15:34:33</td>\n",
       "      <td>125.00</td>\n",
       "    </tr>\n",
       "    <tr>\n",
       "      <th>1510066</th>\n",
       "      <td>1588632</td>\n",
       "      <td>935857</td>\n",
       "      <td>2025-08-06 15:41:14</td>\n",
       "      <td>35.00</td>\n",
       "    </tr>\n",
       "    <tr>\n",
       "      <th>1510067</th>\n",
       "      <td>1588633</td>\n",
       "      <td>509752</td>\n",
       "      <td>2025-08-06 15:43:32</td>\n",
       "      <td>105.00</td>\n",
       "    </tr>\n",
       "    <tr>\n",
       "      <th>1510068</th>\n",
       "      <td>1588634</td>\n",
       "      <td>935858</td>\n",
       "      <td>2025-08-06 15:46:37</td>\n",
       "      <td>320.00</td>\n",
       "    </tr>\n",
       "  </tbody>\n",
       "</table>\n",
       "</div>"
      ],
      "text/plain": [
       "         order_id  customer_id          entry_time  order_total\n",
       "1510059   1588625       880630 2025-08-06 15:25:19        55.00\n",
       "1510060   1588626       912848 2025-08-06 15:26:10        91.67\n",
       "1510061   1588627       793367 2025-08-06 15:30:10       105.00\n",
       "1510062   1588628       455877 2025-08-06 15:35:55       105.00\n",
       "1510063   1588629       726896 2025-08-06 15:32:12       130.00\n",
       "1510064   1588630       773658 2025-08-06 15:31:40        60.00\n",
       "1510065   1588631       237907 2025-08-06 15:34:33       125.00\n",
       "1510066   1588632       935857 2025-08-06 15:41:14        35.00\n",
       "1510067   1588633       509752 2025-08-06 15:43:32       105.00\n",
       "1510068   1588634       935858 2025-08-06 15:46:37       320.00"
      ]
     },
     "execution_count": 14,
     "metadata": {},
     "output_type": "execute_result"
    }
   ],
   "source": [
    "df.tail(10)"
   ]
  },
  {
   "cell_type": "code",
   "execution_count": null,
   "id": "a789a542",
   "metadata": {},
   "outputs": [],
   "source": [
    "mom_conn.close()"
   ]
  },
  {
   "cell_type": "code",
   "execution_count": null,
   "id": "74918ebb",
   "metadata": {},
   "outputs": [],
   "source": [
    "#!gcloud auth application-default login"
   ]
  },
  {
   "cell_type": "code",
   "execution_count": null,
   "id": "236bae3c",
   "metadata": {},
   "outputs": [
    {
     "name": "stdout",
     "output_type": "stream",
     "text": [
      "Loaded 1510069 rows into orders\n"
     ]
    },
    {
     "ename": "",
     "evalue": "",
     "output_type": "error",
     "traceback": [
      "\u001b[1;31mThe Kernel crashed while executing code in the current cell or a previous cell. \n",
      "\u001b[1;31mPlease review the code in the cell(s) to identify a possible cause of the failure. \n",
      "\u001b[1;31mClick <a href='https://aka.ms/vscodeJupyterKernelCrash'>here</a> for more info. \n",
      "\u001b[1;31mView Jupyter <a href='command:jupyter.viewOutput'>log</a> for further details."
     ]
    }
   ],
   "source": [
    "# Configure load job — let schema be auto-detected\n",
    "job_config = bigquery.LoadJobConfig(\n",
    "    autodetect = True,              # This makes schema generation automatic\n",
    "    write_disposition = \"WRITE_APPEND\"  # Or WRITE_TRUNCATE / WRITE_EMPTY\n",
    ")\n",
    "\n",
    "# Load DataFrame into BigQuery\n",
    "job = bq_client.load_table_from_dataframe(\n",
    "    df,\n",
    "    f\"{DATASET_ID}.{TABLE_IDS['orders']}\",\n",
    "    job_config=job_config\n",
    ")\n",
    "job.result()  # Wait for the load to complete\n",
    "\n",
    "print(\"Loaded {} rows into {}\".format(df.shape[0], TABLE_IDS['orders']))"
   ]
  },
  {
   "cell_type": "code",
   "execution_count": null,
   "id": "82cda87e",
   "metadata": {},
   "outputs": [
    {
     "name": "stderr",
     "output_type": "stream",
     "text": [
      "c:\\Users\\danny.sloan\\AppData\\Local\\Programs\\Python\\Python313\\Lib\\site-packages\\google\\cloud\\bigquery\\table.py:1965: UserWarning: BigQuery Storage module not found, fetch data with the REST endpoint instead.\n",
      "  warnings.warn(\n"
     ]
    }
   ],
   "source": [
    "query = f\"\"\"\n",
    "    SELECT * FROM `{DATASET_ID}.{TABLE_IDS['orders']}` LIMIT 100\n",
    "\"\"\"\n",
    "\n",
    "# Run query and return results as a DataFrame\n",
    "df = bq_client.query(query).to_dataframe()"
   ]
  },
  {
   "cell_type": "code",
   "execution_count": null,
   "id": "392b438f",
   "metadata": {},
   "outputs": [
    {
     "data": {
      "text/plain": [
       "(1510066, 4)"
      ]
     },
     "execution_count": 43,
     "metadata": {},
     "output_type": "execute_result"
    }
   ],
   "source": [
    "df.shape"
   ]
  },
  {
   "cell_type": "code",
   "execution_count": null,
   "id": "a3e48404",
   "metadata": {},
   "outputs": [
    {
     "data": {
      "text/html": [
       "<div>\n",
       "<style scoped>\n",
       "    .dataframe tbody tr th:only-of-type {\n",
       "        vertical-align: middle;\n",
       "    }\n",
       "\n",
       "    .dataframe tbody tr th {\n",
       "        vertical-align: top;\n",
       "    }\n",
       "\n",
       "    .dataframe thead th {\n",
       "        text-align: right;\n",
       "    }\n",
       "</style>\n",
       "<table border=\"1\" class=\"dataframe\">\n",
       "  <thead>\n",
       "    <tr style=\"text-align: right;\">\n",
       "      <th></th>\n",
       "      <th>order_id</th>\n",
       "      <th>customer_id</th>\n",
       "      <th>entry_time</th>\n",
       "      <th>order_total</th>\n",
       "    </tr>\n",
       "  </thead>\n",
       "  <tbody>\n",
       "    <tr>\n",
       "      <th>0</th>\n",
       "      <td>3.0</td>\n",
       "      <td>42852.0</td>\n",
       "      <td>2004-03-31 13:35:46</td>\n",
       "      <td>21.98</td>\n",
       "    </tr>\n",
       "    <tr>\n",
       "      <th>1</th>\n",
       "      <td>4.0</td>\n",
       "      <td>42850.0</td>\n",
       "      <td>2004-03-31 15:43:24</td>\n",
       "      <td>11.75</td>\n",
       "    </tr>\n",
       "    <tr>\n",
       "      <th>2</th>\n",
       "      <td>11.0</td>\n",
       "      <td>570323.0</td>\n",
       "      <td>2004-04-01 14:26:23</td>\n",
       "      <td>17.98</td>\n",
       "    </tr>\n",
       "    <tr>\n",
       "      <th>3</th>\n",
       "      <td>12.0</td>\n",
       "      <td>42873.0</td>\n",
       "      <td>2004-04-01 14:50:33</td>\n",
       "      <td>41.97</td>\n",
       "    </tr>\n",
       "    <tr>\n",
       "      <th>4</th>\n",
       "      <td>13.0</td>\n",
       "      <td>42872.0</td>\n",
       "      <td>2004-04-01 15:37:32</td>\n",
       "      <td>26.97</td>\n",
       "    </tr>\n",
       "    <tr>\n",
       "      <th>5</th>\n",
       "      <td>15.0</td>\n",
       "      <td>42875.0</td>\n",
       "      <td>2004-04-01 16:10:36</td>\n",
       "      <td>26.97</td>\n",
       "    </tr>\n",
       "    <tr>\n",
       "      <th>6</th>\n",
       "      <td>21.0</td>\n",
       "      <td>311247.0</td>\n",
       "      <td>2004-04-01 17:38:31</td>\n",
       "      <td>26.97</td>\n",
       "    </tr>\n",
       "    <tr>\n",
       "      <th>7</th>\n",
       "      <td>31.0</td>\n",
       "      <td>446458.0</td>\n",
       "      <td>2004-04-02 13:31:58</td>\n",
       "      <td>26.97</td>\n",
       "    </tr>\n",
       "    <tr>\n",
       "      <th>8</th>\n",
       "      <td>38.0</td>\n",
       "      <td>42904.0</td>\n",
       "      <td>2004-04-05 12:09:29</td>\n",
       "      <td>31.98</td>\n",
       "    </tr>\n",
       "    <tr>\n",
       "      <th>9</th>\n",
       "      <td>40.0</td>\n",
       "      <td>42900.0</td>\n",
       "      <td>2004-04-05 12:24:55</td>\n",
       "      <td>9.99</td>\n",
       "    </tr>\n",
       "  </tbody>\n",
       "</table>\n",
       "</div>"
      ],
      "text/plain": [
       "   order_id  customer_id          entry_time  order_total\n",
       "0       3.0      42852.0 2004-03-31 13:35:46        21.98\n",
       "1       4.0      42850.0 2004-03-31 15:43:24        11.75\n",
       "2      11.0     570323.0 2004-04-01 14:26:23        17.98\n",
       "3      12.0      42873.0 2004-04-01 14:50:33        41.97\n",
       "4      13.0      42872.0 2004-04-01 15:37:32        26.97\n",
       "5      15.0      42875.0 2004-04-01 16:10:36        26.97\n",
       "6      21.0     311247.0 2004-04-01 17:38:31        26.97\n",
       "7      31.0     446458.0 2004-04-02 13:31:58        26.97\n",
       "8      38.0      42904.0 2004-04-05 12:09:29        31.98\n",
       "9      40.0      42900.0 2004-04-05 12:24:55         9.99"
      ]
     },
     "execution_count": 44,
     "metadata": {},
     "output_type": "execute_result"
    }
   ],
   "source": [
    "df.head(10)"
   ]
  }
 ],
 "metadata": {
  "kernelspec": {
   "display_name": "Python 3",
   "language": "python",
   "name": "python3"
  },
  "language_info": {
   "codemirror_mode": {
    "name": "ipython",
    "version": 3
   },
   "file_extension": ".py",
   "mimetype": "text/x-python",
   "name": "python",
   "nbconvert_exporter": "python",
   "pygments_lexer": "ipython3",
   "version": "3.13.5"
  }
 },
 "nbformat": 4,
 "nbformat_minor": 5
}
