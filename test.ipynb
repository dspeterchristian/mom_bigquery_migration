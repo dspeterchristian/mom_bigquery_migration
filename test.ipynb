{
 "cells": [
  {
   "cell_type": "code",
   "execution_count": 29,
   "id": "c9e1fa0b",
   "metadata": {},
   "outputs": [],
   "source": [
    "#!py -m pip install pyodbc pandas db-dtypes\n",
    "#!py -m pip install google-cloud-bigquery google-auth google-auth-oauthlib pandas_gbq"
   ]
  },
  {
   "cell_type": "code",
   "execution_count": 30,
   "id": "f853a18c",
   "metadata": {},
   "outputs": [],
   "source": [
    "import pyodbc\n",
    "import pandas as pd\n",
    "import pandas_gbq\n",
    "import json\n",
    "from google.cloud import bigquery"
   ]
  },
  {
   "cell_type": "code",
   "execution_count": 31,
   "id": "59e049d2",
   "metadata": {},
   "outputs": [],
   "source": [
    "# Open and read the JSON file\n",
    "with open('config/mom_db_config.json', 'r') as file:\n",
    "    mom_db_config = json.load(file)"
   ]
  },
  {
   "cell_type": "code",
   "execution_count": 32,
   "id": "91973b9b",
   "metadata": {},
   "outputs": [],
   "source": [
    "MOM_CONN_STR = (\n",
    "    f\"{mom_db_config['driver']}\"\n",
    "    f\"{mom_db_config['server']}\"\n",
    "    f\"{mom_db_config['database']}\"\n",
    "    f\"{mom_db_config['user']}\"\n",
    "    f\"{mom_db_config['password']}\"\n",
    ")\n",
    "PROJECT_ID = \"sturdy-tome-468208-k2\"\n",
    "DATASET_ID = \"dev\"\n",
    "TABLE_IDS = {\n",
    "    \"orders\" : \"orders\"\n",
    "}"
   ]
  },
  {
   "cell_type": "code",
   "execution_count": 33,
   "id": "127e12d1",
   "metadata": {},
   "outputs": [],
   "source": [
    "# Create connection\n",
    "mom_conn = pyodbc.connect(MOM_CONN_STR)"
   ]
  },
  {
   "cell_type": "code",
   "execution_count": 34,
   "id": "738b464c",
   "metadata": {},
   "outputs": [
    {
     "name": "stderr",
     "output_type": "stream",
     "text": [
      "C:\\Users\\danny.sloan\\AppData\\Local\\Temp\\ipykernel_33032\\47242132.py:15: UserWarning: pandas only supports SQLAlchemy connectable (engine/connection) or database string URI or sqlite3 DBAPI2 connection. Other DBAPI2 objects are not tested. Please consider using SQLAlchemy.\n",
      "  df = pd.read_sql(query, mom_conn)#, params=[last_order_num])\n"
     ]
    }
   ],
   "source": [
    "last_order_time  = \"2025-08-06 12:27:05.000\"\n",
    "last_order_num = 1588550\n",
    "\n",
    "query = \"\"\"\n",
    "    SELECT\n",
    "        orderno AS order_id,\n",
    "        custnum AS customer_id,\n",
    "        entrytime AS entry_time,\n",
    "        ord_total AS order_total\n",
    "        FROM CMS \n",
    "        -- WHERE orderno > ?\n",
    "        ORDER BY order_id ASC\n",
    "\"\"\"\n",
    "\n",
    "df = pd.read_sql(query, mom_conn)#, params=[last_order_num])"
   ]
  },
  {
   "cell_type": "code",
   "execution_count": 35,
   "id": "4ac5a098",
   "metadata": {},
   "outputs": [
    {
     "data": {
      "text/plain": [
       "(1510054, 4)"
      ]
     },
     "execution_count": 35,
     "metadata": {},
     "output_type": "execute_result"
    }
   ],
   "source": [
    "df.shape"
   ]
  },
  {
   "cell_type": "code",
   "execution_count": 36,
   "id": "f0dfba0a",
   "metadata": {},
   "outputs": [
    {
     "data": {
      "text/html": [
       "<div>\n",
       "<style scoped>\n",
       "    .dataframe tbody tr th:only-of-type {\n",
       "        vertical-align: middle;\n",
       "    }\n",
       "\n",
       "    .dataframe tbody tr th {\n",
       "        vertical-align: top;\n",
       "    }\n",
       "\n",
       "    .dataframe thead th {\n",
       "        text-align: right;\n",
       "    }\n",
       "</style>\n",
       "<table border=\"1\" class=\"dataframe\">\n",
       "  <thead>\n",
       "    <tr style=\"text-align: right;\">\n",
       "      <th></th>\n",
       "      <th>order_id</th>\n",
       "      <th>customer_id</th>\n",
       "      <th>entry_time</th>\n",
       "      <th>order_total</th>\n",
       "    </tr>\n",
       "  </thead>\n",
       "  <tbody>\n",
       "    <tr>\n",
       "      <th>1510044</th>\n",
       "      <td>1588610.0</td>\n",
       "      <td>260434.0</td>\n",
       "      <td>2025-08-06 14:57:06</td>\n",
       "      <td>92.0</td>\n",
       "    </tr>\n",
       "    <tr>\n",
       "      <th>1510045</th>\n",
       "      <td>1588611.0</td>\n",
       "      <td>605559.0</td>\n",
       "      <td>2025-08-06 15:06:23</td>\n",
       "      <td>100.0</td>\n",
       "    </tr>\n",
       "    <tr>\n",
       "      <th>1510046</th>\n",
       "      <td>1588612.0</td>\n",
       "      <td>935508.0</td>\n",
       "      <td>NaT</td>\n",
       "      <td>105.0</td>\n",
       "    </tr>\n",
       "    <tr>\n",
       "      <th>1510047</th>\n",
       "      <td>1588613.0</td>\n",
       "      <td>217199.0</td>\n",
       "      <td>2025-08-06 15:05:27</td>\n",
       "      <td>85.0</td>\n",
       "    </tr>\n",
       "    <tr>\n",
       "      <th>1510048</th>\n",
       "      <td>1588614.0</td>\n",
       "      <td>612917.0</td>\n",
       "      <td>2025-08-06 15:03:24</td>\n",
       "      <td>95.0</td>\n",
       "    </tr>\n",
       "    <tr>\n",
       "      <th>1510049</th>\n",
       "      <td>1588615.0</td>\n",
       "      <td>592428.0</td>\n",
       "      <td>2025-08-06 15:05:02</td>\n",
       "      <td>110.0</td>\n",
       "    </tr>\n",
       "    <tr>\n",
       "      <th>1510050</th>\n",
       "      <td>1588616.0</td>\n",
       "      <td>323786.0</td>\n",
       "      <td>2025-08-06 15:08:39</td>\n",
       "      <td>90.0</td>\n",
       "    </tr>\n",
       "    <tr>\n",
       "      <th>1510051</th>\n",
       "      <td>1588617.0</td>\n",
       "      <td>381457.0</td>\n",
       "      <td>2025-08-06 15:08:50</td>\n",
       "      <td>35.0</td>\n",
       "    </tr>\n",
       "    <tr>\n",
       "      <th>1510052</th>\n",
       "      <td>1588618.0</td>\n",
       "      <td>935854.0</td>\n",
       "      <td>2025-08-06 15:09:15</td>\n",
       "      <td>35.0</td>\n",
       "    </tr>\n",
       "    <tr>\n",
       "      <th>1510053</th>\n",
       "      <td>1588619.0</td>\n",
       "      <td>802832.0</td>\n",
       "      <td>2025-08-06 15:10:20</td>\n",
       "      <td>85.0</td>\n",
       "    </tr>\n",
       "  </tbody>\n",
       "</table>\n",
       "</div>"
      ],
      "text/plain": [
       "          order_id  customer_id          entry_time  order_total\n",
       "1510044  1588610.0     260434.0 2025-08-06 14:57:06         92.0\n",
       "1510045  1588611.0     605559.0 2025-08-06 15:06:23        100.0\n",
       "1510046  1588612.0     935508.0                 NaT        105.0\n",
       "1510047  1588613.0     217199.0 2025-08-06 15:05:27         85.0\n",
       "1510048  1588614.0     612917.0 2025-08-06 15:03:24         95.0\n",
       "1510049  1588615.0     592428.0 2025-08-06 15:05:02        110.0\n",
       "1510050  1588616.0     323786.0 2025-08-06 15:08:39         90.0\n",
       "1510051  1588617.0     381457.0 2025-08-06 15:08:50         35.0\n",
       "1510052  1588618.0     935854.0 2025-08-06 15:09:15         35.0\n",
       "1510053  1588619.0     802832.0 2025-08-06 15:10:20         85.0"
      ]
     },
     "execution_count": 36,
     "metadata": {},
     "output_type": "execute_result"
    }
   ],
   "source": [
    "df.tail(10)"
   ]
  },
  {
   "cell_type": "code",
   "execution_count": null,
   "id": "19faa72b",
   "metadata": {},
   "outputs": [
    {
     "name": "stderr",
     "output_type": "stream",
     "text": [
      "C:\\Users\\danny.sloan\\AppData\\Local\\Temp\\ipykernel_33032\\3928567956.py:3: FutureWarning: Series.fillna with 'method' is deprecated and will raise in a future version. Use obj.ffill() or obj.bfill() instead.\n",
      "  df['entry_time'] = df['entry_time'].fillna(method='bfill')  # forward-fill\n"
     ]
    }
   ],
   "source": [
    "# We need to fix the null entrytimes, just backwards fill from the previous seen entrytime\n",
    "df['entry_time'] = pd.to_datetime(df['entry_time'], errors='coerce')  # ensure datetime type\n",
    "df['entry_time'] = df['entry_time'].fillna(method='ffill')  # forward-fill"
   ]
  },
  {
   "cell_type": "code",
   "execution_count": 38,
   "id": "ae29bf9c",
   "metadata": {},
   "outputs": [
    {
     "data": {
      "text/html": [
       "<div>\n",
       "<style scoped>\n",
       "    .dataframe tbody tr th:only-of-type {\n",
       "        vertical-align: middle;\n",
       "    }\n",
       "\n",
       "    .dataframe tbody tr th {\n",
       "        vertical-align: top;\n",
       "    }\n",
       "\n",
       "    .dataframe thead th {\n",
       "        text-align: right;\n",
       "    }\n",
       "</style>\n",
       "<table border=\"1\" class=\"dataframe\">\n",
       "  <thead>\n",
       "    <tr style=\"text-align: right;\">\n",
       "      <th></th>\n",
       "      <th>order_id</th>\n",
       "      <th>customer_id</th>\n",
       "      <th>entry_time</th>\n",
       "      <th>order_total</th>\n",
       "    </tr>\n",
       "  </thead>\n",
       "  <tbody>\n",
       "    <tr>\n",
       "      <th>1510044</th>\n",
       "      <td>1588610.0</td>\n",
       "      <td>260434.0</td>\n",
       "      <td>2025-08-06 14:57:06</td>\n",
       "      <td>92.0</td>\n",
       "    </tr>\n",
       "    <tr>\n",
       "      <th>1510045</th>\n",
       "      <td>1588611.0</td>\n",
       "      <td>605559.0</td>\n",
       "      <td>2025-08-06 15:06:23</td>\n",
       "      <td>100.0</td>\n",
       "    </tr>\n",
       "    <tr>\n",
       "      <th>1510046</th>\n",
       "      <td>1588612.0</td>\n",
       "      <td>935508.0</td>\n",
       "      <td>2025-08-06 15:05:27</td>\n",
       "      <td>105.0</td>\n",
       "    </tr>\n",
       "    <tr>\n",
       "      <th>1510047</th>\n",
       "      <td>1588613.0</td>\n",
       "      <td>217199.0</td>\n",
       "      <td>2025-08-06 15:05:27</td>\n",
       "      <td>85.0</td>\n",
       "    </tr>\n",
       "    <tr>\n",
       "      <th>1510048</th>\n",
       "      <td>1588614.0</td>\n",
       "      <td>612917.0</td>\n",
       "      <td>2025-08-06 15:03:24</td>\n",
       "      <td>95.0</td>\n",
       "    </tr>\n",
       "    <tr>\n",
       "      <th>1510049</th>\n",
       "      <td>1588615.0</td>\n",
       "      <td>592428.0</td>\n",
       "      <td>2025-08-06 15:05:02</td>\n",
       "      <td>110.0</td>\n",
       "    </tr>\n",
       "    <tr>\n",
       "      <th>1510050</th>\n",
       "      <td>1588616.0</td>\n",
       "      <td>323786.0</td>\n",
       "      <td>2025-08-06 15:08:39</td>\n",
       "      <td>90.0</td>\n",
       "    </tr>\n",
       "    <tr>\n",
       "      <th>1510051</th>\n",
       "      <td>1588617.0</td>\n",
       "      <td>381457.0</td>\n",
       "      <td>2025-08-06 15:08:50</td>\n",
       "      <td>35.0</td>\n",
       "    </tr>\n",
       "    <tr>\n",
       "      <th>1510052</th>\n",
       "      <td>1588618.0</td>\n",
       "      <td>935854.0</td>\n",
       "      <td>2025-08-06 15:09:15</td>\n",
       "      <td>35.0</td>\n",
       "    </tr>\n",
       "    <tr>\n",
       "      <th>1510053</th>\n",
       "      <td>1588619.0</td>\n",
       "      <td>802832.0</td>\n",
       "      <td>2025-08-06 15:10:20</td>\n",
       "      <td>85.0</td>\n",
       "    </tr>\n",
       "  </tbody>\n",
       "</table>\n",
       "</div>"
      ],
      "text/plain": [
       "          order_id  customer_id          entry_time  order_total\n",
       "1510044  1588610.0     260434.0 2025-08-06 14:57:06         92.0\n",
       "1510045  1588611.0     605559.0 2025-08-06 15:06:23        100.0\n",
       "1510046  1588612.0     935508.0 2025-08-06 15:05:27        105.0\n",
       "1510047  1588613.0     217199.0 2025-08-06 15:05:27         85.0\n",
       "1510048  1588614.0     612917.0 2025-08-06 15:03:24         95.0\n",
       "1510049  1588615.0     592428.0 2025-08-06 15:05:02        110.0\n",
       "1510050  1588616.0     323786.0 2025-08-06 15:08:39         90.0\n",
       "1510051  1588617.0     381457.0 2025-08-06 15:08:50         35.0\n",
       "1510052  1588618.0     935854.0 2025-08-06 15:09:15         35.0\n",
       "1510053  1588619.0     802832.0 2025-08-06 15:10:20         85.0"
      ]
     },
     "execution_count": 38,
     "metadata": {},
     "output_type": "execute_result"
    }
   ],
   "source": [
    "df.tail(10)"
   ]
  },
  {
   "cell_type": "code",
   "execution_count": 39,
   "id": "a789a542",
   "metadata": {},
   "outputs": [],
   "source": [
    "mom_conn.close()"
   ]
  },
  {
   "cell_type": "code",
   "execution_count": 40,
   "id": "74918ebb",
   "metadata": {},
   "outputs": [],
   "source": [
    "#!gcloud auth application-default login"
   ]
  },
  {
   "cell_type": "code",
   "execution_count": 41,
   "id": "236bae3c",
   "metadata": {},
   "outputs": [
    {
     "name": "stdout",
     "output_type": "stream",
     "text": [
      "Loaded 1510054 rows into orders\n"
     ]
    }
   ],
   "source": [
    "  # Initialize client (uses default credentials)\n",
    "client = bigquery.Client(project=PROJECT_ID)\n",
    "\n",
    "# Configure load job — let schema be auto-detected\n",
    "job_config = bigquery.LoadJobConfig(\n",
    "    autodetect=True,              # This makes schema generation automatic\n",
    "    write_disposition=\"WRITE_APPEND\"  # Or WRITE_TRUNCATE / WRITE_EMPTY\n",
    ")\n",
    "\n",
    "# Load DataFrame into BigQuery\n",
    "#job = client.load_table_from_dataframe(\n",
    "#    df,\n",
    "#    f\"{DATASET_ID}.{TABLE_IDS['orders']}\",\n",
    "#    job_config=job_config\n",
    "#)\n",
    "#job.result()  # Wait for the load to complete\n",
    "\n",
    "print(\"Loaded {} rows into {}\".format(df.shape[0], TABLE_IDS['orders']))"
   ]
  },
  {
   "cell_type": "code",
   "execution_count": 42,
   "id": "82cda87e",
   "metadata": {},
   "outputs": [
    {
     "ename": "NotFound",
     "evalue": "404 Not found: Dataset sturdy-tome-468208-k2:dev was not found in location US; reason: notFound, message: Not found: Dataset sturdy-tome-468208-k2:dev was not found in location US\n\nLocation: US\nJob ID: acfde162-4cbe-4d01-aaac-4415f4054707\n",
     "output_type": "error",
     "traceback": [
      "\u001b[31m---------------------------------------------------------------------------\u001b[39m",
      "\u001b[31mNotFound\u001b[39m                                  Traceback (most recent call last)",
      "\u001b[36mCell\u001b[39m\u001b[36m \u001b[39m\u001b[32mIn[42]\u001b[39m\u001b[32m, line 6\u001b[39m\n\u001b[32m      1\u001b[39m query = \u001b[33mf\u001b[39m\u001b[33m\"\"\"\u001b[39m\n\u001b[32m      2\u001b[39m \u001b[33mSELECT * FROM `\u001b[39m\u001b[38;5;132;01m{\u001b[39;00mDATASET_ID\u001b[38;5;132;01m}\u001b[39;00m\u001b[33m.\u001b[39m\u001b[38;5;132;01m{\u001b[39;00mTABLE_IDS[\u001b[33m'\u001b[39m\u001b[33morders\u001b[39m\u001b[33m'\u001b[39m]\u001b[38;5;132;01m}\u001b[39;00m\u001b[33m`\u001b[39m\n\u001b[32m      3\u001b[39m \u001b[33m\"\"\"\u001b[39m\n\u001b[32m      5\u001b[39m \u001b[38;5;66;03m# Run query and return results as a DataFrame\u001b[39;00m\n\u001b[32m----> \u001b[39m\u001b[32m6\u001b[39m df = \u001b[43mclient\u001b[49m\u001b[43m.\u001b[49m\u001b[43mquery\u001b[49m\u001b[43m(\u001b[49m\u001b[43mquery\u001b[49m\u001b[43m)\u001b[49m\u001b[43m.\u001b[49m\u001b[43mto_dataframe\u001b[49m\u001b[43m(\u001b[49m\u001b[43m)\u001b[49m\n",
      "\u001b[36mFile \u001b[39m\u001b[32mc:\\Users\\danny.sloan\\AppData\\Local\\Programs\\Python\\Python313\\Lib\\site-packages\\google\\cloud\\bigquery\\job\\query.py:2083\u001b[39m, in \u001b[36mQueryJob.to_dataframe\u001b[39m\u001b[34m(self, bqstorage_client, dtypes, progress_bar_type, create_bqstorage_client, max_results, geography_as_object, bool_dtype, int_dtype, float_dtype, string_dtype, date_dtype, datetime_dtype, time_dtype, timestamp_dtype, range_date_dtype, range_datetime_dtype, range_timestamp_dtype)\u001b[39m\n\u001b[32m   1853\u001b[39m \u001b[38;5;28;01mdef\u001b[39;00m\u001b[38;5;250m \u001b[39m\u001b[34mto_dataframe\u001b[39m(\n\u001b[32m   1854\u001b[39m     \u001b[38;5;28mself\u001b[39m,\n\u001b[32m   1855\u001b[39m     bqstorage_client: Optional[\u001b[33m\"\u001b[39m\u001b[33mbigquery_storage.BigQueryReadClient\u001b[39m\u001b[33m\"\u001b[39m] = \u001b[38;5;28;01mNone\u001b[39;00m,\n\u001b[32m   (...)\u001b[39m\u001b[32m   1875\u001b[39m     ] = DefaultPandasDTypes.RANGE_TIMESTAMP_DTYPE,\n\u001b[32m   1876\u001b[39m ) -> \u001b[33m\"\u001b[39m\u001b[33mpandas.DataFrame\u001b[39m\u001b[33m\"\u001b[39m:\n\u001b[32m   1877\u001b[39m \u001b[38;5;250m    \u001b[39m\u001b[33;03m\"\"\"Return a pandas DataFrame from a QueryJob\u001b[39;00m\n\u001b[32m   1878\u001b[39m \n\u001b[32m   1879\u001b[39m \u001b[33;03m    Args:\u001b[39;00m\n\u001b[32m   (...)\u001b[39m\u001b[32m   2081\u001b[39m \u001b[33;03m            :mod:`shapely` library cannot be imported.\u001b[39;00m\n\u001b[32m   2082\u001b[39m \u001b[33;03m    \"\"\"\u001b[39;00m\n\u001b[32m-> \u001b[39m\u001b[32m2083\u001b[39m     query_result = \u001b[43mwait_for_query\u001b[49m\u001b[43m(\u001b[49m\u001b[38;5;28;43mself\u001b[39;49m\u001b[43m,\u001b[49m\u001b[43m \u001b[49m\u001b[43mprogress_bar_type\u001b[49m\u001b[43m,\u001b[49m\u001b[43m \u001b[49m\u001b[43mmax_results\u001b[49m\u001b[43m=\u001b[49m\u001b[43mmax_results\u001b[49m\u001b[43m)\u001b[49m\n\u001b[32m   2084\u001b[39m     \u001b[38;5;28;01mreturn\u001b[39;00m query_result.to_dataframe(\n\u001b[32m   2085\u001b[39m         bqstorage_client=bqstorage_client,\n\u001b[32m   2086\u001b[39m         dtypes=dtypes,\n\u001b[32m   (...)\u001b[39m\u001b[32m   2100\u001b[39m         range_timestamp_dtype=range_timestamp_dtype,\n\u001b[32m   2101\u001b[39m     )\n",
      "\u001b[36mFile \u001b[39m\u001b[32mc:\\Users\\danny.sloan\\AppData\\Local\\Programs\\Python\\Python313\\Lib\\site-packages\\google\\cloud\\bigquery\\_tqdm_helpers.py:107\u001b[39m, in \u001b[36mwait_for_query\u001b[39m\u001b[34m(query_job, progress_bar_type, max_results)\u001b[39m\n\u001b[32m    103\u001b[39m progress_bar = get_progress_bar(\n\u001b[32m    104\u001b[39m     progress_bar_type, \u001b[33m\"\u001b[39m\u001b[33mQuery is running\u001b[39m\u001b[33m\"\u001b[39m, default_total, \u001b[33m\"\u001b[39m\u001b[33mquery\u001b[39m\u001b[33m\"\u001b[39m\n\u001b[32m    105\u001b[39m )\n\u001b[32m    106\u001b[39m \u001b[38;5;28;01mif\u001b[39;00m progress_bar \u001b[38;5;129;01mis\u001b[39;00m \u001b[38;5;28;01mNone\u001b[39;00m:\n\u001b[32m--> \u001b[39m\u001b[32m107\u001b[39m     \u001b[38;5;28;01mreturn\u001b[39;00m \u001b[43mquery_job\u001b[49m\u001b[43m.\u001b[49m\u001b[43mresult\u001b[49m\u001b[43m(\u001b[49m\u001b[43mmax_results\u001b[49m\u001b[43m=\u001b[49m\u001b[43mmax_results\u001b[49m\u001b[43m)\u001b[49m\n\u001b[32m    109\u001b[39m i = \u001b[32m0\u001b[39m\n\u001b[32m    110\u001b[39m \u001b[38;5;28;01mwhile\u001b[39;00m \u001b[38;5;28;01mTrue\u001b[39;00m:\n",
      "\u001b[36mFile \u001b[39m\u001b[32mc:\\Users\\danny.sloan\\AppData\\Local\\Programs\\Python\\Python313\\Lib\\site-packages\\google\\cloud\\bigquery\\job\\query.py:1704\u001b[39m, in \u001b[36mQueryJob.result\u001b[39m\u001b[34m(self, page_size, max_results, retry, timeout, start_index, job_retry)\u001b[39m\n\u001b[32m   1699\u001b[39m     remaining_timeout = \u001b[38;5;28;01mNone\u001b[39;00m\n\u001b[32m   1701\u001b[39m \u001b[38;5;28;01mif\u001b[39;00m remaining_timeout \u001b[38;5;129;01mis\u001b[39;00m \u001b[38;5;28;01mNone\u001b[39;00m:\n\u001b[32m   1702\u001b[39m     \u001b[38;5;66;03m# Since is_job_done() calls jobs.getQueryResults, which is a\u001b[39;00m\n\u001b[32m   1703\u001b[39m     \u001b[38;5;66;03m# long-running API, don't delay the next request at all.\u001b[39;00m\n\u001b[32m-> \u001b[39m\u001b[32m1704\u001b[39m     \u001b[38;5;28;01mwhile\u001b[39;00m \u001b[38;5;129;01mnot\u001b[39;00m \u001b[43mis_job_done\u001b[49m\u001b[43m(\u001b[49m\u001b[43m)\u001b[49m:\n\u001b[32m   1705\u001b[39m         \u001b[38;5;28;01mpass\u001b[39;00m\n\u001b[32m   1706\u001b[39m \u001b[38;5;28;01melse\u001b[39;00m:\n\u001b[32m   1707\u001b[39m     \u001b[38;5;66;03m# Use a monotonic clock since we don't actually care about\u001b[39;00m\n\u001b[32m   1708\u001b[39m     \u001b[38;5;66;03m# daylight savings or similar, just the elapsed time.\u001b[39;00m\n",
      "\u001b[36mFile \u001b[39m\u001b[32mc:\\Users\\danny.sloan\\AppData\\Local\\Programs\\Python\\Python313\\Lib\\site-packages\\google\\api_core\\retry\\retry_unary.py:294\u001b[39m, in \u001b[36mRetry.__call__.<locals>.retry_wrapped_func\u001b[39m\u001b[34m(*args, **kwargs)\u001b[39m\n\u001b[32m    290\u001b[39m target = functools.partial(func, *args, **kwargs)\n\u001b[32m    291\u001b[39m sleep_generator = exponential_sleep_generator(\n\u001b[32m    292\u001b[39m     \u001b[38;5;28mself\u001b[39m._initial, \u001b[38;5;28mself\u001b[39m._maximum, multiplier=\u001b[38;5;28mself\u001b[39m._multiplier\n\u001b[32m    293\u001b[39m )\n\u001b[32m--> \u001b[39m\u001b[32m294\u001b[39m \u001b[38;5;28;01mreturn\u001b[39;00m \u001b[43mretry_target\u001b[49m\u001b[43m(\u001b[49m\n\u001b[32m    295\u001b[39m \u001b[43m    \u001b[49m\u001b[43mtarget\u001b[49m\u001b[43m,\u001b[49m\n\u001b[32m    296\u001b[39m \u001b[43m    \u001b[49m\u001b[38;5;28;43mself\u001b[39;49m\u001b[43m.\u001b[49m\u001b[43m_predicate\u001b[49m\u001b[43m,\u001b[49m\n\u001b[32m    297\u001b[39m \u001b[43m    \u001b[49m\u001b[43msleep_generator\u001b[49m\u001b[43m,\u001b[49m\n\u001b[32m    298\u001b[39m \u001b[43m    \u001b[49m\u001b[43mtimeout\u001b[49m\u001b[43m=\u001b[49m\u001b[38;5;28;43mself\u001b[39;49m\u001b[43m.\u001b[49m\u001b[43m_timeout\u001b[49m\u001b[43m,\u001b[49m\n\u001b[32m    299\u001b[39m \u001b[43m    \u001b[49m\u001b[43mon_error\u001b[49m\u001b[43m=\u001b[49m\u001b[43mon_error\u001b[49m\u001b[43m,\u001b[49m\n\u001b[32m    300\u001b[39m \u001b[43m\u001b[49m\u001b[43m)\u001b[49m\n",
      "\u001b[36mFile \u001b[39m\u001b[32mc:\\Users\\danny.sloan\\AppData\\Local\\Programs\\Python\\Python313\\Lib\\site-packages\\google\\api_core\\retry\\retry_unary.py:156\u001b[39m, in \u001b[36mretry_target\u001b[39m\u001b[34m(target, predicate, sleep_generator, timeout, on_error, exception_factory, **kwargs)\u001b[39m\n\u001b[32m    152\u001b[39m \u001b[38;5;66;03m# pylint: disable=broad-except\u001b[39;00m\n\u001b[32m    153\u001b[39m \u001b[38;5;66;03m# This function explicitly must deal with broad exceptions.\u001b[39;00m\n\u001b[32m    154\u001b[39m \u001b[38;5;28;01mexcept\u001b[39;00m \u001b[38;5;167;01mException\u001b[39;00m \u001b[38;5;28;01mas\u001b[39;00m exc:\n\u001b[32m    155\u001b[39m     \u001b[38;5;66;03m# defer to shared logic for handling errors\u001b[39;00m\n\u001b[32m--> \u001b[39m\u001b[32m156\u001b[39m     next_sleep = \u001b[43m_retry_error_helper\u001b[49m\u001b[43m(\u001b[49m\n\u001b[32m    157\u001b[39m \u001b[43m        \u001b[49m\u001b[43mexc\u001b[49m\u001b[43m,\u001b[49m\n\u001b[32m    158\u001b[39m \u001b[43m        \u001b[49m\u001b[43mdeadline\u001b[49m\u001b[43m,\u001b[49m\n\u001b[32m    159\u001b[39m \u001b[43m        \u001b[49m\u001b[43msleep_iter\u001b[49m\u001b[43m,\u001b[49m\n\u001b[32m    160\u001b[39m \u001b[43m        \u001b[49m\u001b[43merror_list\u001b[49m\u001b[43m,\u001b[49m\n\u001b[32m    161\u001b[39m \u001b[43m        \u001b[49m\u001b[43mpredicate\u001b[49m\u001b[43m,\u001b[49m\n\u001b[32m    162\u001b[39m \u001b[43m        \u001b[49m\u001b[43mon_error\u001b[49m\u001b[43m,\u001b[49m\n\u001b[32m    163\u001b[39m \u001b[43m        \u001b[49m\u001b[43mexception_factory\u001b[49m\u001b[43m,\u001b[49m\n\u001b[32m    164\u001b[39m \u001b[43m        \u001b[49m\u001b[43mtimeout\u001b[49m\u001b[43m,\u001b[49m\n\u001b[32m    165\u001b[39m \u001b[43m    \u001b[49m\u001b[43m)\u001b[49m\n\u001b[32m    166\u001b[39m     \u001b[38;5;66;03m# if exception not raised, sleep before next attempt\u001b[39;00m\n\u001b[32m    167\u001b[39m     time.sleep(next_sleep)\n",
      "\u001b[36mFile \u001b[39m\u001b[32mc:\\Users\\danny.sloan\\AppData\\Local\\Programs\\Python\\Python313\\Lib\\site-packages\\google\\api_core\\retry\\retry_base.py:214\u001b[39m, in \u001b[36m_retry_error_helper\u001b[39m\u001b[34m(exc, deadline, sleep_iterator, error_list, predicate_fn, on_error_fn, exc_factory_fn, original_timeout)\u001b[39m\n\u001b[32m    208\u001b[39m \u001b[38;5;28;01mif\u001b[39;00m \u001b[38;5;129;01mnot\u001b[39;00m predicate_fn(exc):\n\u001b[32m    209\u001b[39m     final_exc, source_exc = exc_factory_fn(\n\u001b[32m    210\u001b[39m         error_list,\n\u001b[32m    211\u001b[39m         RetryFailureReason.NON_RETRYABLE_ERROR,\n\u001b[32m    212\u001b[39m         original_timeout,\n\u001b[32m    213\u001b[39m     )\n\u001b[32m--> \u001b[39m\u001b[32m214\u001b[39m     \u001b[38;5;28;01mraise\u001b[39;00m final_exc \u001b[38;5;28;01mfrom\u001b[39;00m\u001b[38;5;250m \u001b[39m\u001b[34;01msource_exc\u001b[39;00m\n\u001b[32m    215\u001b[39m \u001b[38;5;28;01mif\u001b[39;00m on_error_fn \u001b[38;5;129;01mis\u001b[39;00m \u001b[38;5;129;01mnot\u001b[39;00m \u001b[38;5;28;01mNone\u001b[39;00m:\n\u001b[32m    216\u001b[39m     on_error_fn(exc)\n",
      "\u001b[36mFile \u001b[39m\u001b[32mc:\\Users\\danny.sloan\\AppData\\Local\\Programs\\Python\\Python313\\Lib\\site-packages\\google\\api_core\\retry\\retry_unary.py:147\u001b[39m, in \u001b[36mretry_target\u001b[39m\u001b[34m(target, predicate, sleep_generator, timeout, on_error, exception_factory, **kwargs)\u001b[39m\n\u001b[32m    145\u001b[39m \u001b[38;5;28;01mwhile\u001b[39;00m \u001b[38;5;28;01mTrue\u001b[39;00m:\n\u001b[32m    146\u001b[39m     \u001b[38;5;28;01mtry\u001b[39;00m:\n\u001b[32m--> \u001b[39m\u001b[32m147\u001b[39m         result = \u001b[43mtarget\u001b[49m\u001b[43m(\u001b[49m\u001b[43m)\u001b[49m\n\u001b[32m    148\u001b[39m         \u001b[38;5;28;01mif\u001b[39;00m inspect.isawaitable(result):\n\u001b[32m    149\u001b[39m             warnings.warn(_ASYNC_RETRY_WARNING)\n",
      "\u001b[36mFile \u001b[39m\u001b[32mc:\\Users\\danny.sloan\\AppData\\Local\\Programs\\Python\\Python313\\Lib\\site-packages\\google\\cloud\\bigquery\\job\\query.py:1653\u001b[39m, in \u001b[36mQueryJob.result.<locals>.is_job_done\u001b[39m\u001b[34m()\u001b[39m\n\u001b[32m   1630\u001b[39m \u001b[38;5;28;01mif\u001b[39;00m job_failed_exception \u001b[38;5;129;01mis\u001b[39;00m \u001b[38;5;129;01mnot\u001b[39;00m \u001b[38;5;28;01mNone\u001b[39;00m:\n\u001b[32m   1631\u001b[39m     \u001b[38;5;66;03m# Only try to restart the query job if the job failed for\u001b[39;00m\n\u001b[32m   1632\u001b[39m     \u001b[38;5;66;03m# a retriable reason. For example, don't restart the query\u001b[39;00m\n\u001b[32m   (...)\u001b[39m\u001b[32m   1650\u001b[39m     \u001b[38;5;66;03m# into an exception that can be processed by the\u001b[39;00m\n\u001b[32m   1651\u001b[39m     \u001b[38;5;66;03m# `job_retry` predicate.\u001b[39;00m\n\u001b[32m   1652\u001b[39m     restart_query_job = \u001b[38;5;28;01mTrue\u001b[39;00m\n\u001b[32m-> \u001b[39m\u001b[32m1653\u001b[39m     \u001b[38;5;28;01mraise\u001b[39;00m job_failed_exception\n\u001b[32m   1654\u001b[39m \u001b[38;5;28;01melse\u001b[39;00m:\n\u001b[32m   1655\u001b[39m     \u001b[38;5;66;03m# Make sure that the _query_results are cached so we\u001b[39;00m\n\u001b[32m   1656\u001b[39m     \u001b[38;5;66;03m# can return a complete RowIterator.\u001b[39;00m\n\u001b[32m   (...)\u001b[39m\u001b[32m   1662\u001b[39m     \u001b[38;5;66;03m# making any extra API calls if the previous loop\u001b[39;00m\n\u001b[32m   1663\u001b[39m     \u001b[38;5;66;03m# iteration fetched the finished job.\u001b[39;00m\n\u001b[32m   1664\u001b[39m     \u001b[38;5;28mself\u001b[39m._reload_query_results(\n\u001b[32m   1665\u001b[39m         retry=retry, **reload_query_results_kwargs\n\u001b[32m   1666\u001b[39m     )\n",
      "\u001b[31mNotFound\u001b[39m: 404 Not found: Dataset sturdy-tome-468208-k2:dev was not found in location US; reason: notFound, message: Not found: Dataset sturdy-tome-468208-k2:dev was not found in location US\n\nLocation: US\nJob ID: acfde162-4cbe-4d01-aaac-4415f4054707\n"
     ]
    }
   ],
   "source": [
    "query = f\"\"\"\n",
    "SELECT * FROM `{DATASET_ID}.{TABLE_IDS['orders']}`\n",
    "\"\"\"\n",
    "\n",
    "# Run query and return results as a DataFrame\n",
    "df = client.query(query).to_dataframe()"
   ]
  },
  {
   "cell_type": "code",
   "execution_count": null,
   "id": "392b438f",
   "metadata": {},
   "outputs": [
    {
     "data": {
      "text/plain": [
       "(1510042, 5)"
      ]
     },
     "execution_count": 13,
     "metadata": {},
     "output_type": "execute_result"
    }
   ],
   "source": [
    "df.shape"
   ]
  },
  {
   "cell_type": "code",
   "execution_count": null,
   "id": "a3e48404",
   "metadata": {},
   "outputs": [
    {
     "data": {
      "text/html": [
       "<div>\n",
       "<style scoped>\n",
       "    .dataframe tbody tr th:only-of-type {\n",
       "        vertical-align: middle;\n",
       "    }\n",
       "\n",
       "    .dataframe tbody tr th {\n",
       "        vertical-align: top;\n",
       "    }\n",
       "\n",
       "    .dataframe thead th {\n",
       "        text-align: right;\n",
       "    }\n",
       "</style>\n",
       "<table border=\"1\" class=\"dataframe\">\n",
       "  <thead>\n",
       "    <tr style=\"text-align: right;\">\n",
       "      <th></th>\n",
       "      <th>order_id</th>\n",
       "      <th>customer_id</th>\n",
       "      <th>entry_time</th>\n",
       "      <th>order_total</th>\n",
       "      <th>check_amount</th>\n",
       "    </tr>\n",
       "  </thead>\n",
       "  <tbody>\n",
       "    <tr>\n",
       "      <th>0</th>\n",
       "      <td>2.0</td>\n",
       "      <td>42850.0</td>\n",
       "      <td>2004-03-31 12:52:53</td>\n",
       "      <td>4.00</td>\n",
       "      <td>4.00</td>\n",
       "    </tr>\n",
       "    <tr>\n",
       "      <th>1</th>\n",
       "      <td>4.0</td>\n",
       "      <td>42850.0</td>\n",
       "      <td>2004-03-31 15:43:24</td>\n",
       "      <td>11.75</td>\n",
       "      <td>11.75</td>\n",
       "    </tr>\n",
       "    <tr>\n",
       "      <th>2</th>\n",
       "      <td>12.0</td>\n",
       "      <td>42873.0</td>\n",
       "      <td>2004-04-01 14:50:33</td>\n",
       "      <td>41.97</td>\n",
       "      <td>41.97</td>\n",
       "    </tr>\n",
       "    <tr>\n",
       "      <th>3</th>\n",
       "      <td>14.0</td>\n",
       "      <td>42874.0</td>\n",
       "      <td>2004-04-01 15:52:40</td>\n",
       "      <td>26.97</td>\n",
       "      <td>26.97</td>\n",
       "    </tr>\n",
       "    <tr>\n",
       "      <th>4</th>\n",
       "      <td>15.0</td>\n",
       "      <td>42875.0</td>\n",
       "      <td>2004-04-01 16:10:36</td>\n",
       "      <td>26.97</td>\n",
       "      <td>26.97</td>\n",
       "    </tr>\n",
       "    <tr>\n",
       "      <th>5</th>\n",
       "      <td>23.0</td>\n",
       "      <td>42886.0</td>\n",
       "      <td>2004-04-02 10:23:12</td>\n",
       "      <td>17.98</td>\n",
       "      <td>17.98</td>\n",
       "    </tr>\n",
       "    <tr>\n",
       "      <th>6</th>\n",
       "      <td>26.0</td>\n",
       "      <td>42888.0</td>\n",
       "      <td>2004-04-02 11:45:34</td>\n",
       "      <td>19.99</td>\n",
       "      <td>19.99</td>\n",
       "    </tr>\n",
       "    <tr>\n",
       "      <th>7</th>\n",
       "      <td>35.0</td>\n",
       "      <td>42895.0</td>\n",
       "      <td>2004-04-02 14:15:04</td>\n",
       "      <td>26.97</td>\n",
       "      <td>26.97</td>\n",
       "    </tr>\n",
       "    <tr>\n",
       "      <th>8</th>\n",
       "      <td>37.0</td>\n",
       "      <td>42898.0</td>\n",
       "      <td>2004-04-02 16:08:21</td>\n",
       "      <td>26.97</td>\n",
       "      <td>26.97</td>\n",
       "    </tr>\n",
       "    <tr>\n",
       "      <th>9</th>\n",
       "      <td>38.0</td>\n",
       "      <td>42904.0</td>\n",
       "      <td>2004-04-05 12:09:29</td>\n",
       "      <td>31.98</td>\n",
       "      <td>31.98</td>\n",
       "    </tr>\n",
       "  </tbody>\n",
       "</table>\n",
       "</div>"
      ],
      "text/plain": [
       "   order_id  customer_id          entry_time  order_total  check_amount\n",
       "0       2.0      42850.0 2004-03-31 12:52:53         4.00          4.00\n",
       "1       4.0      42850.0 2004-03-31 15:43:24        11.75         11.75\n",
       "2      12.0      42873.0 2004-04-01 14:50:33        41.97         41.97\n",
       "3      14.0      42874.0 2004-04-01 15:52:40        26.97         26.97\n",
       "4      15.0      42875.0 2004-04-01 16:10:36        26.97         26.97\n",
       "5      23.0      42886.0 2004-04-02 10:23:12        17.98         17.98\n",
       "6      26.0      42888.0 2004-04-02 11:45:34        19.99         19.99\n",
       "7      35.0      42895.0 2004-04-02 14:15:04        26.97         26.97\n",
       "8      37.0      42898.0 2004-04-02 16:08:21        26.97         26.97\n",
       "9      38.0      42904.0 2004-04-05 12:09:29        31.98         31.98"
      ]
     },
     "execution_count": 14,
     "metadata": {},
     "output_type": "execute_result"
    }
   ],
   "source": [
    "df.head(10)"
   ]
  }
 ],
 "metadata": {
  "kernelspec": {
   "display_name": "Python 3",
   "language": "python",
   "name": "python3"
  },
  "language_info": {
   "codemirror_mode": {
    "name": "ipython",
    "version": 3
   },
   "file_extension": ".py",
   "mimetype": "text/x-python",
   "name": "python",
   "nbconvert_exporter": "python",
   "pygments_lexer": "ipython3",
   "version": "3.13.5"
  }
 },
 "nbformat": 4,
 "nbformat_minor": 5
}
