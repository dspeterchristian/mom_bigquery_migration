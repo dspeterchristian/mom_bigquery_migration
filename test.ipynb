{
 "cells": [
  {
   "cell_type": "code",
   "execution_count": 45,
   "id": "c9e1fa0b",
   "metadata": {},
   "outputs": [],
   "source": [
    "#!py -m pip install pyodbc pandas db-dtypes\n",
    "#!py -m pip install google-cloud-bigquery google-auth google-auth-oauthlib pandas_gbq"
   ]
  },
  {
   "cell_type": "code",
   "execution_count": 46,
   "id": "f853a18c",
   "metadata": {},
   "outputs": [],
   "source": [
    "import pyodbc\n",
    "import pandas as pd\n",
    "import pandas_gbq\n",
    "import json\n",
    "from google.cloud import bigquery\n",
    "from google.api_core.exceptions import NotFound"
   ]
  },
  {
   "cell_type": "code",
   "execution_count": 47,
   "id": "59e049d2",
   "metadata": {},
   "outputs": [],
   "source": [
    "# Open and read the JSON file\n",
    "with open('config/mom_db_config.json', 'r') as file:\n",
    "    mom_db_config = json.load(file)"
   ]
  },
  {
   "cell_type": "code",
   "execution_count": 48,
   "id": "91973b9b",
   "metadata": {},
   "outputs": [],
   "source": [
    "MOM_CONN_STR = (\n",
    "    f\"{mom_db_config['driver']}\"\n",
    "    f\"{mom_db_config['server']}\"\n",
    "    f\"{mom_db_config['database']}\"\n",
    "    f\"{mom_db_config['user']}\"\n",
    "    f\"{mom_db_config['password']}\"\n",
    ")\n",
    "PROJECT_ID = \"sturdy-tome-468208-k2\"\n",
    "DATASET_ID = \"dev\"\n",
    "TABLE_IDS = {\n",
    "    \"orders\" : \"orders\"\n",
    "}"
   ]
  },
  {
   "cell_type": "code",
   "execution_count": 49,
   "id": "127e12d1",
   "metadata": {},
   "outputs": [],
   "source": [
    "# Create connection\n",
    "mom_conn = pyodbc.connect(MOM_CONN_STR)"
   ]
  },
  {
   "cell_type": "code",
   "execution_count": 50,
   "id": "fb830533",
   "metadata": {},
   "outputs": [],
   "source": [
    "# Initialize client (uses default credentials)\n",
    "bq_client = bigquery.Client(project=PROJECT_ID)"
   ]
  },
  {
   "cell_type": "code",
   "execution_count": 51,
   "id": "5e0bbe21",
   "metadata": {},
   "outputs": [
    {
     "name": "stderr",
     "output_type": "stream",
     "text": [
      "c:\\Users\\danny.sloan\\AppData\\Local\\Programs\\Python\\Python313\\Lib\\site-packages\\google\\cloud\\bigquery\\table.py:1965: UserWarning: BigQuery Storage module not found, fetch data with the REST endpoint instead.\n",
      "  warnings.warn(\n"
     ]
    }
   ],
   "source": [
    "# Get the latest order id\n",
    "query = f\"\"\"\n",
    "    SELECT MAX(order_id) AS max_id FROM `{DATASET_ID}.{TABLE_IDS['orders']}` \n",
    "\"\"\"\n",
    "max_id = None\n",
    "try :\n",
    "    # Run query and return results as a DataFrame\n",
    "    df = bq_client.query(query).to_dataframe()\n",
    "    if len(df) > 0 :\n",
    "        max_id = df.iloc[0]['max_id']\n",
    "except NotFound:\n",
    "    print(f\"Table not found: {TABLE_IDS['orders']}\")"
   ]
  },
  {
   "cell_type": "code",
   "execution_count": 52,
   "id": "2b0475d3",
   "metadata": {},
   "outputs": [
    {
     "data": {
      "text/plain": [
       "np.float64(1588631.0)"
      ]
     },
     "execution_count": 52,
     "metadata": {},
     "output_type": "execute_result"
    }
   ],
   "source": [
    "max_id"
   ]
  },
  {
   "cell_type": "code",
   "execution_count": 53,
   "id": "738b464c",
   "metadata": {},
   "outputs": [
    {
     "name": "stderr",
     "output_type": "stream",
     "text": [
      "C:\\Users\\danny.sloan\\AppData\\Local\\Temp\\ipykernel_7624\\3755343262.py:21: UserWarning: pandas only supports SQLAlchemy connectable (engine/connection) or database string URI or sqlite3 DBAPI2 connection. Other DBAPI2 objects are not tested. Please consider using SQLAlchemy.\n",
      "  df = pd.read_sql(query, mom_conn, params = params)\n"
     ]
    }
   ],
   "source": [
    "last_order_time  = \"2025-08-06 12:27:05.000\"\n",
    "last_order_num = 1588550\n",
    "\n",
    "params = []\n",
    "parms_str = \"\"\n",
    "if max_id is not None:\n",
    "    params = [max_id]\n",
    "    parms_str = \" WHERE orderno > ? \"\n",
    "\n",
    "query = f\"\"\"\n",
    "    SELECT\n",
    "        orderno AS order_id,\n",
    "        custnum AS customer_id,\n",
    "        entrytime AS entry_time,\n",
    "        ord_total AS order_total\n",
    "        FROM CMS \n",
    "        {parms_str}\n",
    "        ORDER BY order_id ASC\n",
    "\"\"\"\n",
    "\n",
    "df = pd.read_sql(query, mom_conn, params = params)"
   ]
  },
  {
   "cell_type": "code",
   "execution_count": null,
   "id": "23410c63",
   "metadata": {},
   "outputs": [],
   "source": [
    "# Convert ids to integers\n",
    "df['order_id'] = df['order_id'].astype(int)\n",
    "df['customer_id'] = df['customer_id'].astype(int)"
   ]
  },
  {
   "cell_type": "code",
   "execution_count": 54,
   "id": "4ac5a098",
   "metadata": {},
   "outputs": [
    {
     "data": {
      "text/plain": [
       "(2, 4)"
      ]
     },
     "execution_count": 54,
     "metadata": {},
     "output_type": "execute_result"
    }
   ],
   "source": [
    "df.shape"
   ]
  },
  {
   "cell_type": "code",
   "execution_count": 55,
   "id": "f0dfba0a",
   "metadata": {},
   "outputs": [
    {
     "data": {
      "text/html": [
       "<div>\n",
       "<style scoped>\n",
       "    .dataframe tbody tr th:only-of-type {\n",
       "        vertical-align: middle;\n",
       "    }\n",
       "\n",
       "    .dataframe tbody tr th {\n",
       "        vertical-align: top;\n",
       "    }\n",
       "\n",
       "    .dataframe thead th {\n",
       "        text-align: right;\n",
       "    }\n",
       "</style>\n",
       "<table border=\"1\" class=\"dataframe\">\n",
       "  <thead>\n",
       "    <tr style=\"text-align: right;\">\n",
       "      <th></th>\n",
       "      <th>order_id</th>\n",
       "      <th>customer_id</th>\n",
       "      <th>entry_time</th>\n",
       "      <th>order_total</th>\n",
       "    </tr>\n",
       "  </thead>\n",
       "  <tbody>\n",
       "    <tr>\n",
       "      <th>0</th>\n",
       "      <td>1588632.0</td>\n",
       "      <td>935857.0</td>\n",
       "      <td>2025-08-06 15:41:14</td>\n",
       "      <td>35.0</td>\n",
       "    </tr>\n",
       "    <tr>\n",
       "      <th>1</th>\n",
       "      <td>1588633.0</td>\n",
       "      <td>509752.0</td>\n",
       "      <td>2025-08-06 15:43:32</td>\n",
       "      <td>105.0</td>\n",
       "    </tr>\n",
       "  </tbody>\n",
       "</table>\n",
       "</div>"
      ],
      "text/plain": [
       "    order_id  customer_id          entry_time  order_total\n",
       "0  1588632.0     935857.0 2025-08-06 15:41:14         35.0\n",
       "1  1588633.0     509752.0 2025-08-06 15:43:32        105.0"
      ]
     },
     "execution_count": 55,
     "metadata": {},
     "output_type": "execute_result"
    }
   ],
   "source": [
    "df.tail(10)"
   ]
  },
  {
   "cell_type": "code",
   "execution_count": 56,
   "id": "19faa72b",
   "metadata": {},
   "outputs": [
    {
     "name": "stderr",
     "output_type": "stream",
     "text": [
      "C:\\Users\\danny.sloan\\AppData\\Local\\Temp\\ipykernel_7624\\1582709845.py:3: FutureWarning: Series.fillna with 'method' is deprecated and will raise in a future version. Use obj.ffill() or obj.bfill() instead.\n",
      "  df['entry_time'] = df['entry_time'].fillna(method='ffill')  # forward-fill\n"
     ]
    }
   ],
   "source": [
    "# We need to fix the null entrytimes, just backwards fill from the previous seen entrytime\n",
    "df['entry_time'] = pd.to_datetime(df['entry_time'], errors='coerce')  # ensure datetime type\n",
    "df['entry_time'] = df['entry_time'].fillna(method='ffill')  # forward-fill"
   ]
  },
  {
   "cell_type": "code",
   "execution_count": 57,
   "id": "ae29bf9c",
   "metadata": {},
   "outputs": [
    {
     "data": {
      "text/html": [
       "<div>\n",
       "<style scoped>\n",
       "    .dataframe tbody tr th:only-of-type {\n",
       "        vertical-align: middle;\n",
       "    }\n",
       "\n",
       "    .dataframe tbody tr th {\n",
       "        vertical-align: top;\n",
       "    }\n",
       "\n",
       "    .dataframe thead th {\n",
       "        text-align: right;\n",
       "    }\n",
       "</style>\n",
       "<table border=\"1\" class=\"dataframe\">\n",
       "  <thead>\n",
       "    <tr style=\"text-align: right;\">\n",
       "      <th></th>\n",
       "      <th>order_id</th>\n",
       "      <th>customer_id</th>\n",
       "      <th>entry_time</th>\n",
       "      <th>order_total</th>\n",
       "    </tr>\n",
       "  </thead>\n",
       "  <tbody>\n",
       "    <tr>\n",
       "      <th>0</th>\n",
       "      <td>1588632.0</td>\n",
       "      <td>935857.0</td>\n",
       "      <td>2025-08-06 15:41:14</td>\n",
       "      <td>35.0</td>\n",
       "    </tr>\n",
       "    <tr>\n",
       "      <th>1</th>\n",
       "      <td>1588633.0</td>\n",
       "      <td>509752.0</td>\n",
       "      <td>2025-08-06 15:43:32</td>\n",
       "      <td>105.0</td>\n",
       "    </tr>\n",
       "  </tbody>\n",
       "</table>\n",
       "</div>"
      ],
      "text/plain": [
       "    order_id  customer_id          entry_time  order_total\n",
       "0  1588632.0     935857.0 2025-08-06 15:41:14         35.0\n",
       "1  1588633.0     509752.0 2025-08-06 15:43:32        105.0"
      ]
     },
     "execution_count": 57,
     "metadata": {},
     "output_type": "execute_result"
    }
   ],
   "source": [
    "df.tail(10)"
   ]
  },
  {
   "cell_type": "code",
   "execution_count": 58,
   "id": "a789a542",
   "metadata": {},
   "outputs": [],
   "source": [
    "mom_conn.close()"
   ]
  },
  {
   "cell_type": "code",
   "execution_count": 59,
   "id": "74918ebb",
   "metadata": {},
   "outputs": [],
   "source": [
    "#!gcloud auth application-default login"
   ]
  },
  {
   "cell_type": "code",
   "execution_count": null,
   "id": "236bae3c",
   "metadata": {},
   "outputs": [
    {
     "name": "stdout",
     "output_type": "stream",
     "text": [
      "Loaded 2 rows into orders\n"
     ]
    },
    {
     "ename": "",
     "evalue": "",
     "output_type": "error",
     "traceback": [
      "\u001b[1;31mThe Kernel crashed while executing code in the current cell or a previous cell. \n",
      "\u001b[1;31mPlease review the code in the cell(s) to identify a possible cause of the failure. \n",
      "\u001b[1;31mClick <a href='https://aka.ms/vscodeJupyterKernelCrash'>here</a> for more info. \n",
      "\u001b[1;31mView Jupyter <a href='command:jupyter.viewOutput'>log</a> for further details."
     ]
    }
   ],
   "source": [
    "# Configure load job — let schema be auto-detected\n",
    "job_config = bigquery.LoadJobConfig(\n",
    "    autodetect = True,              # This makes schema generation automatic\n",
    "    write_disposition = \"WRITE_APPEND\"  # Or WRITE_TRUNCATE / WRITE_EMPTY\n",
    ")\n",
    "\n",
    "# Load DataFrame into BigQuery\n",
    "job = bq_client.load_table_from_dataframe(\n",
    "    df,\n",
    "    f\"{DATASET_ID}.{TABLE_IDS['orders']}\",\n",
    "    job_config=job_config\n",
    ")\n",
    "job.result()  # Wait for the load to complete\n",
    "\n",
    "print(\"Loaded {} rows into {}\".format(df.shape[0], TABLE_IDS['orders']))"
   ]
  },
  {
   "cell_type": "code",
   "execution_count": null,
   "id": "82cda87e",
   "metadata": {},
   "outputs": [
    {
     "name": "stderr",
     "output_type": "stream",
     "text": [
      "c:\\Users\\danny.sloan\\AppData\\Local\\Programs\\Python\\Python313\\Lib\\site-packages\\google\\cloud\\bigquery\\table.py:1965: UserWarning: BigQuery Storage module not found, fetch data with the REST endpoint instead.\n",
      "  warnings.warn(\n"
     ]
    }
   ],
   "source": [
    "query = f\"\"\"\n",
    "    SELECT * FROM `{DATASET_ID}.{TABLE_IDS['orders']}`\n",
    "\"\"\"\n",
    "\n",
    "# Run query and return results as a DataFrame\n",
    "df = bq_client.query(query).to_dataframe()"
   ]
  },
  {
   "cell_type": "code",
   "execution_count": null,
   "id": "392b438f",
   "metadata": {},
   "outputs": [
    {
     "data": {
      "text/plain": [
       "(1510066, 4)"
      ]
     },
     "execution_count": 43,
     "metadata": {},
     "output_type": "execute_result"
    }
   ],
   "source": [
    "df.shape"
   ]
  },
  {
   "cell_type": "code",
   "execution_count": null,
   "id": "a3e48404",
   "metadata": {},
   "outputs": [
    {
     "data": {
      "text/html": [
       "<div>\n",
       "<style scoped>\n",
       "    .dataframe tbody tr th:only-of-type {\n",
       "        vertical-align: middle;\n",
       "    }\n",
       "\n",
       "    .dataframe tbody tr th {\n",
       "        vertical-align: top;\n",
       "    }\n",
       "\n",
       "    .dataframe thead th {\n",
       "        text-align: right;\n",
       "    }\n",
       "</style>\n",
       "<table border=\"1\" class=\"dataframe\">\n",
       "  <thead>\n",
       "    <tr style=\"text-align: right;\">\n",
       "      <th></th>\n",
       "      <th>order_id</th>\n",
       "      <th>customer_id</th>\n",
       "      <th>entry_time</th>\n",
       "      <th>order_total</th>\n",
       "    </tr>\n",
       "  </thead>\n",
       "  <tbody>\n",
       "    <tr>\n",
       "      <th>0</th>\n",
       "      <td>3.0</td>\n",
       "      <td>42852.0</td>\n",
       "      <td>2004-03-31 13:35:46</td>\n",
       "      <td>21.98</td>\n",
       "    </tr>\n",
       "    <tr>\n",
       "      <th>1</th>\n",
       "      <td>4.0</td>\n",
       "      <td>42850.0</td>\n",
       "      <td>2004-03-31 15:43:24</td>\n",
       "      <td>11.75</td>\n",
       "    </tr>\n",
       "    <tr>\n",
       "      <th>2</th>\n",
       "      <td>11.0</td>\n",
       "      <td>570323.0</td>\n",
       "      <td>2004-04-01 14:26:23</td>\n",
       "      <td>17.98</td>\n",
       "    </tr>\n",
       "    <tr>\n",
       "      <th>3</th>\n",
       "      <td>12.0</td>\n",
       "      <td>42873.0</td>\n",
       "      <td>2004-04-01 14:50:33</td>\n",
       "      <td>41.97</td>\n",
       "    </tr>\n",
       "    <tr>\n",
       "      <th>4</th>\n",
       "      <td>13.0</td>\n",
       "      <td>42872.0</td>\n",
       "      <td>2004-04-01 15:37:32</td>\n",
       "      <td>26.97</td>\n",
       "    </tr>\n",
       "    <tr>\n",
       "      <th>5</th>\n",
       "      <td>15.0</td>\n",
       "      <td>42875.0</td>\n",
       "      <td>2004-04-01 16:10:36</td>\n",
       "      <td>26.97</td>\n",
       "    </tr>\n",
       "    <tr>\n",
       "      <th>6</th>\n",
       "      <td>21.0</td>\n",
       "      <td>311247.0</td>\n",
       "      <td>2004-04-01 17:38:31</td>\n",
       "      <td>26.97</td>\n",
       "    </tr>\n",
       "    <tr>\n",
       "      <th>7</th>\n",
       "      <td>31.0</td>\n",
       "      <td>446458.0</td>\n",
       "      <td>2004-04-02 13:31:58</td>\n",
       "      <td>26.97</td>\n",
       "    </tr>\n",
       "    <tr>\n",
       "      <th>8</th>\n",
       "      <td>38.0</td>\n",
       "      <td>42904.0</td>\n",
       "      <td>2004-04-05 12:09:29</td>\n",
       "      <td>31.98</td>\n",
       "    </tr>\n",
       "    <tr>\n",
       "      <th>9</th>\n",
       "      <td>40.0</td>\n",
       "      <td>42900.0</td>\n",
       "      <td>2004-04-05 12:24:55</td>\n",
       "      <td>9.99</td>\n",
       "    </tr>\n",
       "  </tbody>\n",
       "</table>\n",
       "</div>"
      ],
      "text/plain": [
       "   order_id  customer_id          entry_time  order_total\n",
       "0       3.0      42852.0 2004-03-31 13:35:46        21.98\n",
       "1       4.0      42850.0 2004-03-31 15:43:24        11.75\n",
       "2      11.0     570323.0 2004-04-01 14:26:23        17.98\n",
       "3      12.0      42873.0 2004-04-01 14:50:33        41.97\n",
       "4      13.0      42872.0 2004-04-01 15:37:32        26.97\n",
       "5      15.0      42875.0 2004-04-01 16:10:36        26.97\n",
       "6      21.0     311247.0 2004-04-01 17:38:31        26.97\n",
       "7      31.0     446458.0 2004-04-02 13:31:58        26.97\n",
       "8      38.0      42904.0 2004-04-05 12:09:29        31.98\n",
       "9      40.0      42900.0 2004-04-05 12:24:55         9.99"
      ]
     },
     "execution_count": 44,
     "metadata": {},
     "output_type": "execute_result"
    }
   ],
   "source": [
    "df.head(10)"
   ]
  }
 ],
 "metadata": {
  "kernelspec": {
   "display_name": "Python 3",
   "language": "python",
   "name": "python3"
  },
  "language_info": {
   "codemirror_mode": {
    "name": "ipython",
    "version": 3
   },
   "file_extension": ".py",
   "mimetype": "text/x-python",
   "name": "python",
   "nbconvert_exporter": "python",
   "pygments_lexer": "ipython3",
   "version": "3.13.5"
  }
 },
 "nbformat": 4,
 "nbformat_minor": 5
}
