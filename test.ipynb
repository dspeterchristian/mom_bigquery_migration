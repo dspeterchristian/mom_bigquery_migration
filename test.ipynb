{
 "cells": [
  {
   "cell_type": "code",
   "execution_count": 11,
   "id": "c9e1fa0b",
   "metadata": {},
   "outputs": [
    {
     "name": "stdout",
     "output_type": "stream",
     "text": [
      "Requirement already satisfied: pyodbc in c:\\users\\danny.sloan\\appdata\\local\\programs\\python\\python313\\lib\\site-packages (5.2.0)\n",
      "Requirement already satisfied: pandas in c:\\users\\danny.sloan\\appdata\\local\\programs\\python\\python313\\lib\\site-packages (2.3.1)\n",
      "Requirement already satisfied: numpy>=1.26.0 in c:\\users\\danny.sloan\\appdata\\local\\programs\\python\\python313\\lib\\site-packages (from pandas) (2.3.2)\n",
      "Requirement already satisfied: python-dateutil>=2.8.2 in c:\\users\\danny.sloan\\appdata\\roaming\\python\\python313\\site-packages (from pandas) (2.9.0.post0)\n",
      "Requirement already satisfied: pytz>=2020.1 in c:\\users\\danny.sloan\\appdata\\local\\programs\\python\\python313\\lib\\site-packages (from pandas) (2025.2)\n",
      "Requirement already satisfied: tzdata>=2022.7 in c:\\users\\danny.sloan\\appdata\\local\\programs\\python\\python313\\lib\\site-packages (from pandas) (2025.2)\n",
      "Requirement already satisfied: six>=1.5 in c:\\users\\danny.sloan\\appdata\\roaming\\python\\python313\\site-packages (from python-dateutil>=2.8.2->pandas) (1.17.0)\n"
     ]
    }
   ],
   "source": [
    "!py -m pip install pyodbc pandas"
   ]
  },
  {
   "cell_type": "code",
   "execution_count": 12,
   "id": "f853a18c",
   "metadata": {},
   "outputs": [],
   "source": [
    "import pyodbc\n",
    "import pandas as pd\n",
    "import json"
   ]
  },
  {
   "cell_type": "code",
   "execution_count": 13,
   "id": "59e049d2",
   "metadata": {},
   "outputs": [
    {
     "name": "stdout",
     "output_type": "stream",
     "text": [
      "{'driver': 'DRIVER={ODBC Driver 17 for SQL Server};', 'server': 'SERVER=V19XX002;', 'database': 'DATABASE=MOM-PC;', 'user': 'UID=Danny.Sloan;', 'password': 'PWD=1$d*Y|0ztA42;'}\n"
     ]
    }
   ],
   "source": [
    "# Open and read the JSON file\n",
    "with open('config/mom_db_config.json', 'r') as file:\n",
    "    db_config = json.load(file)\n",
    "\n",
    "# Print the data\n",
    "print(db_config)"
   ]
  },
  {
   "cell_type": "code",
   "execution_count": 14,
   "id": "91973b9b",
   "metadata": {},
   "outputs": [
    {
     "name": "stdout",
     "output_type": "stream",
     "text": [
      "DRIVER={ODBC Driver 17 for SQL Server};SERVER=V19XX002;DATABASE=MOM-PC;UID=Danny.Sloan;PWD=1$d*Y|0ztA42;\n"
     ]
    }
   ],
   "source": [
    "# Example for SQL Server Authentication\n",
    "conn_str = (\n",
    "    f\"{db_config['driver']}\"\n",
    "    f\"{db_config['server']}\"\n",
    "    f\"{db_config['database']}\"\n",
    "    f\"{db_config['user']}\"\n",
    "    f\"{db_config['password']}\"\n",
    ")\n",
    "\n",
    "print(conn_str)\n",
    "# Create connection\n",
    "conn = pyodbc.connect(conn_str)"
   ]
  },
  {
   "cell_type": "code",
   "execution_count": 15,
   "id": "738b464c",
   "metadata": {},
   "outputs": [
    {
     "name": "stderr",
     "output_type": "stream",
     "text": [
      "C:\\Users\\danny.sloan\\AppData\\Local\\Temp\\ipykernel_34408\\308473102.py:2: UserWarning: pandas only supports SQLAlchemy connectable (engine/connection) or database string URI or sqlite3 DBAPI2 connection. Other DBAPI2 objects are not tested. Please consider using SQLAlchemy.\n",
      "  df = pd.read_sql(query, conn)\n"
     ]
    }
   ],
   "source": [
    "query = \"SELECT TOP 10 * FROM CMS\"\n",
    "df = pd.read_sql(query, conn)"
   ]
  },
  {
   "cell_type": "code",
   "execution_count": 16,
   "id": "f0dfba0a",
   "metadata": {},
   "outputs": [
    {
     "data": {
      "text/html": [
       "<div>\n",
       "<style scoped>\n",
       "    .dataframe tbody tr th:only-of-type {\n",
       "        vertical-align: middle;\n",
       "    }\n",
       "\n",
       "    .dataframe tbody tr th {\n",
       "        vertical-align: top;\n",
       "    }\n",
       "\n",
       "    .dataframe thead th {\n",
       "        text-align: right;\n",
       "    }\n",
       "</style>\n",
       "<table border=\"1\" class=\"dataframe\">\n",
       "  <thead>\n",
       "    <tr style=\"text-align: right;\">\n",
       "      <th></th>\n",
       "      <th>ORDERNO</th>\n",
       "      <th>CUSTNUM</th>\n",
       "      <th>CL_KEY</th>\n",
       "      <th>ODR_DATE</th>\n",
       "      <th>HOLD_TYPE</th>\n",
       "      <th>PERM_HOLD</th>\n",
       "      <th>SYS_HOLD</th>\n",
       "      <th>HOLD_DATE</th>\n",
       "      <th>REL_DATE</th>\n",
       "      <th>CLEAR_DATE</th>\n",
       "      <th>...</th>\n",
       "      <th>PICKED_UP</th>\n",
       "      <th>PICKUPWARE</th>\n",
       "      <th>TAXSERVICE</th>\n",
       "      <th>TRANFEE</th>\n",
       "      <th>TB_TRANFEE</th>\n",
       "      <th>TFALLOWED</th>\n",
       "      <th>TFMODIFY</th>\n",
       "      <th>FBA</th>\n",
       "      <th>AVALARA</th>\n",
       "      <th>AV_ENTITY</th>\n",
       "    </tr>\n",
       "  </thead>\n",
       "  <tbody>\n",
       "    <tr>\n",
       "      <th>0</th>\n",
       "      <td>1.0</td>\n",
       "      <td>42850.0</td>\n",
       "      <td>PC100</td>\n",
       "      <td>2004-03-31</td>\n",
       "      <td></td>\n",
       "      <td>False</td>\n",
       "      <td>False</td>\n",
       "      <td>None</td>\n",
       "      <td>None</td>\n",
       "      <td>None</td>\n",
       "      <td>...</td>\n",
       "      <td>False</td>\n",
       "      <td></td>\n",
       "      <td>False</td>\n",
       "      <td>0.0</td>\n",
       "      <td>0.0</td>\n",
       "      <td>False</td>\n",
       "      <td>False</td>\n",
       "      <td>False</td>\n",
       "      <td>False</td>\n",
       "      <td></td>\n",
       "    </tr>\n",
       "    <tr>\n",
       "      <th>1</th>\n",
       "      <td>2.0</td>\n",
       "      <td>42850.0</td>\n",
       "      <td>PC730</td>\n",
       "      <td>2004-03-31</td>\n",
       "      <td></td>\n",
       "      <td>False</td>\n",
       "      <td>False</td>\n",
       "      <td>None</td>\n",
       "      <td>None</td>\n",
       "      <td>None</td>\n",
       "      <td>...</td>\n",
       "      <td>False</td>\n",
       "      <td></td>\n",
       "      <td>False</td>\n",
       "      <td>0.0</td>\n",
       "      <td>0.0</td>\n",
       "      <td>False</td>\n",
       "      <td>False</td>\n",
       "      <td>False</td>\n",
       "      <td>False</td>\n",
       "      <td></td>\n",
       "    </tr>\n",
       "    <tr>\n",
       "      <th>2</th>\n",
       "      <td>3.0</td>\n",
       "      <td>42852.0</td>\n",
       "      <td>10T07</td>\n",
       "      <td>2004-03-31</td>\n",
       "      <td></td>\n",
       "      <td>False</td>\n",
       "      <td>False</td>\n",
       "      <td>None</td>\n",
       "      <td>None</td>\n",
       "      <td>None</td>\n",
       "      <td>...</td>\n",
       "      <td>False</td>\n",
       "      <td></td>\n",
       "      <td>False</td>\n",
       "      <td>0.0</td>\n",
       "      <td>0.0</td>\n",
       "      <td>False</td>\n",
       "      <td>False</td>\n",
       "      <td>False</td>\n",
       "      <td>False</td>\n",
       "      <td></td>\n",
       "    </tr>\n",
       "    <tr>\n",
       "      <th>3</th>\n",
       "      <td>4.0</td>\n",
       "      <td>42850.0</td>\n",
       "      <td></td>\n",
       "      <td>2004-03-31</td>\n",
       "      <td></td>\n",
       "      <td>False</td>\n",
       "      <td>False</td>\n",
       "      <td>None</td>\n",
       "      <td>None</td>\n",
       "      <td>None</td>\n",
       "      <td>...</td>\n",
       "      <td>False</td>\n",
       "      <td></td>\n",
       "      <td>False</td>\n",
       "      <td>0.0</td>\n",
       "      <td>0.0</td>\n",
       "      <td>False</td>\n",
       "      <td>False</td>\n",
       "      <td>False</td>\n",
       "      <td>False</td>\n",
       "      <td></td>\n",
       "    </tr>\n",
       "    <tr>\n",
       "      <th>4</th>\n",
       "      <td>5.0</td>\n",
       "      <td>38652.0</td>\n",
       "      <td>11T08</td>\n",
       "      <td>2004-03-31</td>\n",
       "      <td></td>\n",
       "      <td>False</td>\n",
       "      <td>False</td>\n",
       "      <td>None</td>\n",
       "      <td>None</td>\n",
       "      <td>None</td>\n",
       "      <td>...</td>\n",
       "      <td>False</td>\n",
       "      <td></td>\n",
       "      <td>False</td>\n",
       "      <td>0.0</td>\n",
       "      <td>0.0</td>\n",
       "      <td>False</td>\n",
       "      <td>False</td>\n",
       "      <td>False</td>\n",
       "      <td>False</td>\n",
       "      <td></td>\n",
       "    </tr>\n",
       "  </tbody>\n",
       "</table>\n",
       "<p>5 rows × 181 columns</p>\n",
       "</div>"
      ],
      "text/plain": [
       "   ORDERNO  CUSTNUM     CL_KEY   ODR_DATE HOLD_TYPE  PERM_HOLD  SYS_HOLD  \\\n",
       "0      1.0  42850.0  PC100     2004-03-31                False     False   \n",
       "1      2.0  42850.0  PC730     2004-03-31                False     False   \n",
       "2      3.0  42852.0  10T07     2004-03-31                False     False   \n",
       "3      4.0  42850.0            2004-03-31                False     False   \n",
       "4      5.0  38652.0  11T08     2004-03-31                False     False   \n",
       "\n",
       "  HOLD_DATE REL_DATE CLEAR_DATE  ... PICKED_UP PICKUPWARE TAXSERVICE  TRANFEE  \\\n",
       "0      None     None       None  ...     False                 False      0.0   \n",
       "1      None     None       None  ...     False                 False      0.0   \n",
       "2      None     None       None  ...     False                 False      0.0   \n",
       "3      None     None       None  ...     False                 False      0.0   \n",
       "4      None     None       None  ...     False                 False      0.0   \n",
       "\n",
       "  TB_TRANFEE TFALLOWED TFMODIFY    FBA  AVALARA   AV_ENTITY  \n",
       "0        0.0     False    False  False    False              \n",
       "1        0.0     False    False  False    False              \n",
       "2        0.0     False    False  False    False              \n",
       "3        0.0     False    False  False    False              \n",
       "4        0.0     False    False  False    False              \n",
       "\n",
       "[5 rows x 181 columns]"
      ]
     },
     "execution_count": 16,
     "metadata": {},
     "output_type": "execute_result"
    }
   ],
   "source": [
    "df.head()"
   ]
  },
  {
   "cell_type": "code",
   "execution_count": 17,
   "id": "a789a542",
   "metadata": {},
   "outputs": [],
   "source": [
    "conn.close()"
   ]
  }
 ],
 "metadata": {
  "kernelspec": {
   "display_name": "Python 3",
   "language": "python",
   "name": "python3"
  },
  "language_info": {
   "codemirror_mode": {
    "name": "ipython",
    "version": 3
   },
   "file_extension": ".py",
   "mimetype": "text/x-python",
   "name": "python",
   "nbconvert_exporter": "python",
   "pygments_lexer": "ipython3",
   "version": "3.13.5"
  }
 },
 "nbformat": 4,
 "nbformat_minor": 5
}
