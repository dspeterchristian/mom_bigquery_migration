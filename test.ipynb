{
 "cells": [
  {
   "cell_type": "code",
   "execution_count": 43,
   "id": "c9e1fa0b",
   "metadata": {},
   "outputs": [
    {
     "name": "stdout",
     "output_type": "stream",
     "text": [
      "Requirement already satisfied: pyodbc in c:\\users\\danny.sloan\\appdata\\local\\programs\\python\\python313\\lib\\site-packages (5.2.0)\n",
      "Requirement already satisfied: pandas in c:\\users\\danny.sloan\\appdata\\local\\programs\\python\\python313\\lib\\site-packages (2.3.1)\n",
      "Requirement already satisfied: numpy>=1.26.0 in c:\\users\\danny.sloan\\appdata\\local\\programs\\python\\python313\\lib\\site-packages (from pandas) (2.3.2)\n",
      "Requirement already satisfied: python-dateutil>=2.8.2 in c:\\users\\danny.sloan\\appdata\\roaming\\python\\python313\\site-packages (from pandas) (2.9.0.post0)\n",
      "Requirement already satisfied: pytz>=2020.1 in c:\\users\\danny.sloan\\appdata\\local\\programs\\python\\python313\\lib\\site-packages (from pandas) (2025.2)\n",
      "Requirement already satisfied: tzdata>=2022.7 in c:\\users\\danny.sloan\\appdata\\local\\programs\\python\\python313\\lib\\site-packages (from pandas) (2025.2)\n",
      "Requirement already satisfied: six>=1.5 in c:\\users\\danny.sloan\\appdata\\roaming\\python\\python313\\site-packages (from python-dateutil>=2.8.2->pandas) (1.17.0)\n"
     ]
    }
   ],
   "source": [
    "!py -m pip install pyodbc pandas"
   ]
  },
  {
   "cell_type": "code",
   "execution_count": 44,
   "id": "f853a18c",
   "metadata": {},
   "outputs": [],
   "source": [
    "import pyodbc\n",
    "import pandas as pd\n",
    "import json"
   ]
  },
  {
   "cell_type": "code",
   "execution_count": 45,
   "id": "59e049d2",
   "metadata": {},
   "outputs": [
    {
     "name": "stdout",
     "output_type": "stream",
     "text": [
      "{'driver': 'DRIVER={ODBC Driver 17 for SQL Server};', 'server': 'SERVER=V19XX002;', 'database': 'DATABASE=MOM-PC;', 'user': 'UID=Danny.Sloan;', 'password': 'PWD=1$d*Y|0ztA42;'}\n"
     ]
    }
   ],
   "source": [
    "# Open and read the JSON file\n",
    "with open('config/mom_db_config.json', 'r') as file:\n",
    "    db_config = json.load(file)\n",
    "\n",
    "# Print the data\n",
    "print(db_config)"
   ]
  },
  {
   "cell_type": "code",
   "execution_count": 46,
   "id": "91973b9b",
   "metadata": {},
   "outputs": [
    {
     "name": "stdout",
     "output_type": "stream",
     "text": [
      "DRIVER={ODBC Driver 17 for SQL Server};SERVER=V19XX002;DATABASE=MOM-PC;UID=Danny.Sloan;PWD=1$d*Y|0ztA42;\n"
     ]
    }
   ],
   "source": [
    "# Example for SQL Server Authentication\n",
    "conn_str = (\n",
    "    f\"{db_config['driver']}\"\n",
    "    f\"{db_config['server']}\"\n",
    "    f\"{db_config['database']}\"\n",
    "    f\"{db_config['user']}\"\n",
    "    f\"{db_config['password']}\"\n",
    ")\n",
    "\n",
    "print(conn_str)\n",
    "# Create connection\n",
    "conn = pyodbc.connect(conn_str)"
   ]
  },
  {
   "cell_type": "code",
   "execution_count": 47,
   "id": "738b464c",
   "metadata": {},
   "outputs": [
    {
     "name": "stderr",
     "output_type": "stream",
     "text": [
      "C:\\Users\\danny.sloan\\AppData\\Local\\Temp\\ipykernel_34408\\2210056475.py:5: UserWarning: pandas only supports SQLAlchemy connectable (engine/connection) or database string URI or sqlite3 DBAPI2 connection. Other DBAPI2 objects are not tested. Please consider using SQLAlchemy.\n",
      "  df = pd.read_sql(query, conn, params=[last_order_num])\n"
     ]
    }
   ],
   "source": [
    "\n",
    "\n",
    "last_order_time  = \"2025-08-06 12:27:05.000\"\n",
    "last_order_num = 1588560\n",
    "\n",
    "query = \"SELECT * FROM CMS WHERE orderno > ?\"\n",
    "df = pd.read_sql(query, conn, params=[last_order_num])\n",
    "\n",
    "\n",
    "\n"
   ]
  },
  {
   "cell_type": "code",
   "execution_count": 48,
   "id": "f0dfba0a",
   "metadata": {},
   "outputs": [
    {
     "data": {
      "text/html": [
       "<div>\n",
       "<style scoped>\n",
       "    .dataframe tbody tr th:only-of-type {\n",
       "        vertical-align: middle;\n",
       "    }\n",
       "\n",
       "    .dataframe tbody tr th {\n",
       "        vertical-align: top;\n",
       "    }\n",
       "\n",
       "    .dataframe thead th {\n",
       "        text-align: right;\n",
       "    }\n",
       "</style>\n",
       "<table border=\"1\" class=\"dataframe\">\n",
       "  <thead>\n",
       "    <tr style=\"text-align: right;\">\n",
       "      <th></th>\n",
       "      <th>ORDERNO</th>\n",
       "      <th>CUSTNUM</th>\n",
       "      <th>CL_KEY</th>\n",
       "      <th>ODR_DATE</th>\n",
       "      <th>HOLD_TYPE</th>\n",
       "      <th>PERM_HOLD</th>\n",
       "      <th>SYS_HOLD</th>\n",
       "      <th>HOLD_DATE</th>\n",
       "      <th>REL_DATE</th>\n",
       "      <th>CLEAR_DATE</th>\n",
       "      <th>...</th>\n",
       "      <th>PICKED_UP</th>\n",
       "      <th>PICKUPWARE</th>\n",
       "      <th>TAXSERVICE</th>\n",
       "      <th>TRANFEE</th>\n",
       "      <th>TB_TRANFEE</th>\n",
       "      <th>TFALLOWED</th>\n",
       "      <th>TFMODIFY</th>\n",
       "      <th>FBA</th>\n",
       "      <th>AVALARA</th>\n",
       "      <th>AV_ENTITY</th>\n",
       "    </tr>\n",
       "  </thead>\n",
       "  <tbody>\n",
       "    <tr>\n",
       "      <th>0</th>\n",
       "      <td>1588561.0</td>\n",
       "      <td>935836.0</td>\n",
       "      <td>? UNKNOWN</td>\n",
       "      <td>2025-08-06</td>\n",
       "      <td></td>\n",
       "      <td>False</td>\n",
       "      <td>False</td>\n",
       "      <td>None</td>\n",
       "      <td>None</td>\n",
       "      <td>None</td>\n",
       "      <td>...</td>\n",
       "      <td>False</td>\n",
       "      <td></td>\n",
       "      <td>False</td>\n",
       "      <td>0.0</td>\n",
       "      <td>0.0</td>\n",
       "      <td>False</td>\n",
       "      <td>False</td>\n",
       "      <td>False</td>\n",
       "      <td>False</td>\n",
       "      <td></td>\n",
       "    </tr>\n",
       "    <tr>\n",
       "      <th>1</th>\n",
       "      <td>1588562.0</td>\n",
       "      <td>542583.0</td>\n",
       "      <td>PC3030</td>\n",
       "      <td>2025-08-06</td>\n",
       "      <td></td>\n",
       "      <td>False</td>\n",
       "      <td>False</td>\n",
       "      <td>None</td>\n",
       "      <td>None</td>\n",
       "      <td>None</td>\n",
       "      <td>...</td>\n",
       "      <td>False</td>\n",
       "      <td></td>\n",
       "      <td>False</td>\n",
       "      <td>0.0</td>\n",
       "      <td>0.0</td>\n",
       "      <td>False</td>\n",
       "      <td>False</td>\n",
       "      <td>False</td>\n",
       "      <td>False</td>\n",
       "      <td></td>\n",
       "    </tr>\n",
       "    <tr>\n",
       "      <th>2</th>\n",
       "      <td>1588563.0</td>\n",
       "      <td>507491.0</td>\n",
       "      <td>5E31</td>\n",
       "      <td>2025-08-06</td>\n",
       "      <td></td>\n",
       "      <td>False</td>\n",
       "      <td>False</td>\n",
       "      <td>None</td>\n",
       "      <td>None</td>\n",
       "      <td>None</td>\n",
       "      <td>...</td>\n",
       "      <td>False</td>\n",
       "      <td></td>\n",
       "      <td>False</td>\n",
       "      <td>0.0</td>\n",
       "      <td>0.0</td>\n",
       "      <td>False</td>\n",
       "      <td>False</td>\n",
       "      <td>False</td>\n",
       "      <td>False</td>\n",
       "      <td></td>\n",
       "    </tr>\n",
       "    <tr>\n",
       "      <th>3</th>\n",
       "      <td>1588564.0</td>\n",
       "      <td>935837.0</td>\n",
       "      <td>? UNKNOWN</td>\n",
       "      <td>2025-08-06</td>\n",
       "      <td></td>\n",
       "      <td>False</td>\n",
       "      <td>False</td>\n",
       "      <td>None</td>\n",
       "      <td>None</td>\n",
       "      <td>None</td>\n",
       "      <td>...</td>\n",
       "      <td>False</td>\n",
       "      <td></td>\n",
       "      <td>False</td>\n",
       "      <td>0.0</td>\n",
       "      <td>0.0</td>\n",
       "      <td>False</td>\n",
       "      <td>False</td>\n",
       "      <td>False</td>\n",
       "      <td>False</td>\n",
       "      <td></td>\n",
       "    </tr>\n",
       "    <tr>\n",
       "      <th>4</th>\n",
       "      <td>1588565.0</td>\n",
       "      <td>527824.0</td>\n",
       "      <td>? UNKNOWN</td>\n",
       "      <td>2025-08-06</td>\n",
       "      <td></td>\n",
       "      <td>False</td>\n",
       "      <td>False</td>\n",
       "      <td>None</td>\n",
       "      <td>None</td>\n",
       "      <td>None</td>\n",
       "      <td>...</td>\n",
       "      <td>False</td>\n",
       "      <td></td>\n",
       "      <td>False</td>\n",
       "      <td>0.0</td>\n",
       "      <td>0.0</td>\n",
       "      <td>False</td>\n",
       "      <td>False</td>\n",
       "      <td>False</td>\n",
       "      <td>False</td>\n",
       "      <td></td>\n",
       "    </tr>\n",
       "  </tbody>\n",
       "</table>\n",
       "<p>5 rows × 181 columns</p>\n",
       "</div>"
      ],
      "text/plain": [
       "     ORDERNO   CUSTNUM     CL_KEY   ODR_DATE HOLD_TYPE  PERM_HOLD  SYS_HOLD  \\\n",
       "0  1588561.0  935836.0  ? UNKNOWN 2025-08-06                False     False   \n",
       "1  1588562.0  542583.0  PC3030    2025-08-06                False     False   \n",
       "2  1588563.0  507491.0  5E31      2025-08-06                False     False   \n",
       "3  1588564.0  935837.0  ? UNKNOWN 2025-08-06                False     False   \n",
       "4  1588565.0  527824.0  ? UNKNOWN 2025-08-06                False     False   \n",
       "\n",
       "  HOLD_DATE REL_DATE CLEAR_DATE  ... PICKED_UP PICKUPWARE TAXSERVICE  TRANFEE  \\\n",
       "0      None     None       None  ...     False                 False      0.0   \n",
       "1      None     None       None  ...     False                 False      0.0   \n",
       "2      None     None       None  ...     False                 False      0.0   \n",
       "3      None     None       None  ...     False                 False      0.0   \n",
       "4      None     None       None  ...     False                 False      0.0   \n",
       "\n",
       "  TB_TRANFEE TFALLOWED TFMODIFY    FBA  AVALARA   AV_ENTITY  \n",
       "0        0.0     False    False  False    False              \n",
       "1        0.0     False    False  False    False              \n",
       "2        0.0     False    False  False    False              \n",
       "3        0.0     False    False  False    False              \n",
       "4        0.0     False    False  False    False              \n",
       "\n",
       "[5 rows x 181 columns]"
      ]
     },
     "execution_count": 48,
     "metadata": {},
     "output_type": "execute_result"
    }
   ],
   "source": [
    "df.head()"
   ]
  },
  {
   "cell_type": "code",
   "execution_count": 49,
   "id": "a789a542",
   "metadata": {},
   "outputs": [],
   "source": [
    "conn.close()"
   ]
  }
 ],
 "metadata": {
  "kernelspec": {
   "display_name": "Python 3",
   "language": "python",
   "name": "python3"
  },
  "language_info": {
   "codemirror_mode": {
    "name": "ipython",
    "version": 3
   },
   "file_extension": ".py",
   "mimetype": "text/x-python",
   "name": "python",
   "nbconvert_exporter": "python",
   "pygments_lexer": "ipython3",
   "version": "3.13.5"
  }
 },
 "nbformat": 4,
 "nbformat_minor": 5
}
