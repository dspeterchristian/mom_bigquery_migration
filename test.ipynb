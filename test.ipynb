{
 "cells": [
  {
   "cell_type": "code",
   "execution_count": 17,
   "id": "c9e1fa0b",
   "metadata": {},
   "outputs": [],
   "source": [
    "#!py -m pip install pyodbc pandas db-dtypes\n",
    "#!py -m pip install google-cloud-bigquery google-auth google-auth-oauthlib pandas_gbq"
   ]
  },
  {
   "cell_type": "code",
   "execution_count": 18,
   "id": "f853a18c",
   "metadata": {},
   "outputs": [],
   "source": [
    "import pyodbc\n",
    "import pandas as pd\n",
    "import pandas_gbq\n",
    "import json\n",
    "from google.cloud import bigquery\n",
    "from google.api_core.exceptions import NotFound"
   ]
  },
  {
   "cell_type": "code",
   "execution_count": 19,
   "id": "59e049d2",
   "metadata": {},
   "outputs": [],
   "source": [
    "# Open and read the JSON file\n",
    "with open('config/mom_db_config.json', 'r') as file:\n",
    "    mom_db_config = json.load(file)"
   ]
  },
  {
   "cell_type": "code",
   "execution_count": 20,
   "id": "91973b9b",
   "metadata": {},
   "outputs": [],
   "source": [
    "MOM_CONN_STR = (\n",
    "    f\"{mom_db_config['driver']}\"\n",
    "    f\"{mom_db_config['server']}\"\n",
    "    f\"{mom_db_config['database']}\"\n",
    "    f\"{mom_db_config['user']}\"\n",
    "    f\"{mom_db_config['password']}\"\n",
    ")\n",
    "PROJECT_ID = \"sturdy-tome-468208-k2\"\n",
    "DATASET_ID = \"dev\"\n",
    "TABLE_IDS = {\n",
    "    \"orders\" : \"orders\"\n",
    "}"
   ]
  },
  {
   "cell_type": "code",
   "execution_count": 21,
   "id": "127e12d1",
   "metadata": {},
   "outputs": [],
   "source": [
    "# Create connection\n",
    "mom_conn = pyodbc.connect(MOM_CONN_STR)"
   ]
  },
  {
   "cell_type": "code",
   "execution_count": 22,
   "id": "fb830533",
   "metadata": {},
   "outputs": [],
   "source": [
    "# Initialize client (uses default credentials)\n",
    "bq_client = bigquery.Client(project=PROJECT_ID)"
   ]
  },
  {
   "cell_type": "code",
   "execution_count": null,
   "id": "5e0bbe21",
   "metadata": {},
   "outputs": [
    {
     "ename": "SyntaxError",
     "evalue": "invalid syntax (2402438273.py, line 4)",
     "output_type": "error",
     "traceback": [
      "  \u001b[36mCell\u001b[39m\u001b[36m \u001b[39m\u001b[32mIn[23]\u001b[39m\u001b[32m, line 4\u001b[39m\n\u001b[31m    \u001b[39m\u001b[31mnot\u001b[39m\n       ^\n\u001b[31mSyntaxError\u001b[39m\u001b[31m:\u001b[39m invalid syntax\n"
     ]
    }
   ],
   "source": [
    "# Get the latest order id\n",
    "query = f\"\"\"\n",
    "    SELECT MAX(order_id) AS max_id FROM `{DATASET_ID}.{TABLE_IDS['orders']}` \n",
    "\"\"\"\n",
    "max_id = None\n",
    "try :\n",
    "    # Run query and return results as a DataFrame\n",
    "    df = bq_client.query(query).to_dataframe()\n",
    "    if len(df) > 0 :\n",
    "        max_id = df.iloc(0)['max_id']\n",
    "except NotFound:\n",
    "    print(f\"Table not found: {TABLE_IDS['orders']}\")"
   ]
  },
  {
   "cell_type": "code",
   "execution_count": null,
   "id": "2b0475d3",
   "metadata": {},
   "outputs": [
    {
     "ename": "NameError",
     "evalue": "name 'df' is not defined",
     "output_type": "error",
     "traceback": [
      "\u001b[31m---------------------------------------------------------------------------\u001b[39m",
      "\u001b[31mNameError\u001b[39m                                 Traceback (most recent call last)",
      "\u001b[36mCell\u001b[39m\u001b[36m \u001b[39m\u001b[32mIn[16]\u001b[39m\u001b[32m, line 1\u001b[39m\n\u001b[32m----> \u001b[39m\u001b[32m1\u001b[39m \u001b[43mdf\u001b[49m.iloc(\u001b[32m0\u001b[39m)[\u001b[33m'\u001b[39m\u001b[33mmax_id\u001b[39m\u001b[33m'\u001b[39m]\n",
      "\u001b[31mNameError\u001b[39m: name 'df' is not defined"
     ]
    }
   ],
   "source": []
  },
  {
   "cell_type": "code",
   "execution_count": null,
   "id": "738b464c",
   "metadata": {},
   "outputs": [
    {
     "name": "stderr",
     "output_type": "stream",
     "text": [
      "C:\\Users\\danny.sloan\\AppData\\Local\\Temp\\ipykernel_22876\\47242132.py:15: UserWarning: pandas only supports SQLAlchemy connectable (engine/connection) or database string URI or sqlite3 DBAPI2 connection. Other DBAPI2 objects are not tested. Please consider using SQLAlchemy.\n",
      "  df = pd.read_sql(query, mom_conn)#, params=[last_order_num])\n"
     ]
    }
   ],
   "source": [
    "last_order_time  = \"2025-08-06 12:27:05.000\"\n",
    "last_order_num = 1588550\n",
    "\n",
    "params = []\n",
    "parms_str = \"\"\n",
    "if max_id is not None:\n",
    "    params = [max_id]\n",
    "    parms_str = \" WHERE orderno > ? \"\n",
    "\n",
    "query = f\"\"\"\n",
    "    SELECT\n",
    "        orderno AS order_id,\n",
    "        custnum AS customer_id,\n",
    "        entrytime AS entry_time,\n",
    "        ord_total AS order_total\n",
    "        FROM CMS \n",
    "        {parms_str}\n",
    "        ORDER BY order_id ASC\n",
    "\"\"\"\n",
    "\n",
    "df = pd.read_sql(query, mom_conn, params = params)"
   ]
  },
  {
   "cell_type": "code",
   "execution_count": null,
   "id": "4ac5a098",
   "metadata": {},
   "outputs": [
    {
     "data": {
      "text/plain": [
       "(1510060, 4)"
      ]
     },
     "execution_count": 10,
     "metadata": {},
     "output_type": "execute_result"
    }
   ],
   "source": [
    "df.shape"
   ]
  },
  {
   "cell_type": "code",
   "execution_count": null,
   "id": "f0dfba0a",
   "metadata": {},
   "outputs": [
    {
     "data": {
      "text/html": [
       "<div>\n",
       "<style scoped>\n",
       "    .dataframe tbody tr th:only-of-type {\n",
       "        vertical-align: middle;\n",
       "    }\n",
       "\n",
       "    .dataframe tbody tr th {\n",
       "        vertical-align: top;\n",
       "    }\n",
       "\n",
       "    .dataframe thead th {\n",
       "        text-align: right;\n",
       "    }\n",
       "</style>\n",
       "<table border=\"1\" class=\"dataframe\">\n",
       "  <thead>\n",
       "    <tr style=\"text-align: right;\">\n",
       "      <th></th>\n",
       "      <th>order_id</th>\n",
       "      <th>customer_id</th>\n",
       "      <th>entry_time</th>\n",
       "      <th>order_total</th>\n",
       "    </tr>\n",
       "  </thead>\n",
       "  <tbody>\n",
       "    <tr>\n",
       "      <th>1510050</th>\n",
       "      <td>1588616.0</td>\n",
       "      <td>323786.0</td>\n",
       "      <td>2025-08-06 15:08:39</td>\n",
       "      <td>90.0</td>\n",
       "    </tr>\n",
       "    <tr>\n",
       "      <th>1510051</th>\n",
       "      <td>1588617.0</td>\n",
       "      <td>381457.0</td>\n",
       "      <td>2025-08-06 15:08:50</td>\n",
       "      <td>35.0</td>\n",
       "    </tr>\n",
       "    <tr>\n",
       "      <th>1510052</th>\n",
       "      <td>1588618.0</td>\n",
       "      <td>935854.0</td>\n",
       "      <td>2025-08-06 15:09:15</td>\n",
       "      <td>35.0</td>\n",
       "    </tr>\n",
       "    <tr>\n",
       "      <th>1510053</th>\n",
       "      <td>1588619.0</td>\n",
       "      <td>802832.0</td>\n",
       "      <td>2025-08-06 15:10:20</td>\n",
       "      <td>85.0</td>\n",
       "    </tr>\n",
       "    <tr>\n",
       "      <th>1510054</th>\n",
       "      <td>1588620.0</td>\n",
       "      <td>935855.0</td>\n",
       "      <td>2025-08-06 15:13:44</td>\n",
       "      <td>60.0</td>\n",
       "    </tr>\n",
       "    <tr>\n",
       "      <th>1510055</th>\n",
       "      <td>1588621.0</td>\n",
       "      <td>258255.0</td>\n",
       "      <td>2025-08-06 15:20:36</td>\n",
       "      <td>41.0</td>\n",
       "    </tr>\n",
       "    <tr>\n",
       "      <th>1510056</th>\n",
       "      <td>1588622.0</td>\n",
       "      <td>735520.0</td>\n",
       "      <td>2025-08-06 15:23:35</td>\n",
       "      <td>60.0</td>\n",
       "    </tr>\n",
       "    <tr>\n",
       "      <th>1510057</th>\n",
       "      <td>1588623.0</td>\n",
       "      <td>372708.0</td>\n",
       "      <td>NaT</td>\n",
       "      <td>100.0</td>\n",
       "    </tr>\n",
       "    <tr>\n",
       "      <th>1510058</th>\n",
       "      <td>1588624.0</td>\n",
       "      <td>935598.0</td>\n",
       "      <td>2025-08-06 15:23:51</td>\n",
       "      <td>135.0</td>\n",
       "    </tr>\n",
       "    <tr>\n",
       "      <th>1510059</th>\n",
       "      <td>1588625.0</td>\n",
       "      <td>880630.0</td>\n",
       "      <td>2025-08-06 15:25:19</td>\n",
       "      <td>55.0</td>\n",
       "    </tr>\n",
       "  </tbody>\n",
       "</table>\n",
       "</div>"
      ],
      "text/plain": [
       "          order_id  customer_id          entry_time  order_total\n",
       "1510050  1588616.0     323786.0 2025-08-06 15:08:39         90.0\n",
       "1510051  1588617.0     381457.0 2025-08-06 15:08:50         35.0\n",
       "1510052  1588618.0     935854.0 2025-08-06 15:09:15         35.0\n",
       "1510053  1588619.0     802832.0 2025-08-06 15:10:20         85.0\n",
       "1510054  1588620.0     935855.0 2025-08-06 15:13:44         60.0\n",
       "1510055  1588621.0     258255.0 2025-08-06 15:20:36         41.0\n",
       "1510056  1588622.0     735520.0 2025-08-06 15:23:35         60.0\n",
       "1510057  1588623.0     372708.0                 NaT        100.0\n",
       "1510058  1588624.0     935598.0 2025-08-06 15:23:51        135.0\n",
       "1510059  1588625.0     880630.0 2025-08-06 15:25:19         55.0"
      ]
     },
     "execution_count": 11,
     "metadata": {},
     "output_type": "execute_result"
    }
   ],
   "source": [
    "df.tail(10)"
   ]
  },
  {
   "cell_type": "code",
   "execution_count": null,
   "id": "19faa72b",
   "metadata": {},
   "outputs": [
    {
     "name": "stderr",
     "output_type": "stream",
     "text": [
      "C:\\Users\\danny.sloan\\AppData\\Local\\Temp\\ipykernel_22876\\1582709845.py:3: FutureWarning: Series.fillna with 'method' is deprecated and will raise in a future version. Use obj.ffill() or obj.bfill() instead.\n",
      "  df['entry_time'] = df['entry_time'].fillna(method='ffill')  # forward-fill\n"
     ]
    }
   ],
   "source": [
    "# We need to fix the null entrytimes, just backwards fill from the previous seen entrytime\n",
    "df['entry_time'] = pd.to_datetime(df['entry_time'], errors='coerce')  # ensure datetime type\n",
    "df['entry_time'] = df['entry_time'].fillna(method='ffill')  # forward-fill"
   ]
  },
  {
   "cell_type": "code",
   "execution_count": null,
   "id": "ae29bf9c",
   "metadata": {},
   "outputs": [
    {
     "data": {
      "text/html": [
       "<div>\n",
       "<style scoped>\n",
       "    .dataframe tbody tr th:only-of-type {\n",
       "        vertical-align: middle;\n",
       "    }\n",
       "\n",
       "    .dataframe tbody tr th {\n",
       "        vertical-align: top;\n",
       "    }\n",
       "\n",
       "    .dataframe thead th {\n",
       "        text-align: right;\n",
       "    }\n",
       "</style>\n",
       "<table border=\"1\" class=\"dataframe\">\n",
       "  <thead>\n",
       "    <tr style=\"text-align: right;\">\n",
       "      <th></th>\n",
       "      <th>order_id</th>\n",
       "      <th>customer_id</th>\n",
       "      <th>entry_time</th>\n",
       "      <th>order_total</th>\n",
       "    </tr>\n",
       "  </thead>\n",
       "  <tbody>\n",
       "    <tr>\n",
       "      <th>1510050</th>\n",
       "      <td>1588616.0</td>\n",
       "      <td>323786.0</td>\n",
       "      <td>2025-08-06 15:08:39</td>\n",
       "      <td>90.0</td>\n",
       "    </tr>\n",
       "    <tr>\n",
       "      <th>1510051</th>\n",
       "      <td>1588617.0</td>\n",
       "      <td>381457.0</td>\n",
       "      <td>2025-08-06 15:08:50</td>\n",
       "      <td>35.0</td>\n",
       "    </tr>\n",
       "    <tr>\n",
       "      <th>1510052</th>\n",
       "      <td>1588618.0</td>\n",
       "      <td>935854.0</td>\n",
       "      <td>2025-08-06 15:09:15</td>\n",
       "      <td>35.0</td>\n",
       "    </tr>\n",
       "    <tr>\n",
       "      <th>1510053</th>\n",
       "      <td>1588619.0</td>\n",
       "      <td>802832.0</td>\n",
       "      <td>2025-08-06 15:10:20</td>\n",
       "      <td>85.0</td>\n",
       "    </tr>\n",
       "    <tr>\n",
       "      <th>1510054</th>\n",
       "      <td>1588620.0</td>\n",
       "      <td>935855.0</td>\n",
       "      <td>2025-08-06 15:13:44</td>\n",
       "      <td>60.0</td>\n",
       "    </tr>\n",
       "    <tr>\n",
       "      <th>1510055</th>\n",
       "      <td>1588621.0</td>\n",
       "      <td>258255.0</td>\n",
       "      <td>2025-08-06 15:20:36</td>\n",
       "      <td>41.0</td>\n",
       "    </tr>\n",
       "    <tr>\n",
       "      <th>1510056</th>\n",
       "      <td>1588622.0</td>\n",
       "      <td>735520.0</td>\n",
       "      <td>2025-08-06 15:23:35</td>\n",
       "      <td>60.0</td>\n",
       "    </tr>\n",
       "    <tr>\n",
       "      <th>1510057</th>\n",
       "      <td>1588623.0</td>\n",
       "      <td>372708.0</td>\n",
       "      <td>2025-08-06 15:23:35</td>\n",
       "      <td>100.0</td>\n",
       "    </tr>\n",
       "    <tr>\n",
       "      <th>1510058</th>\n",
       "      <td>1588624.0</td>\n",
       "      <td>935598.0</td>\n",
       "      <td>2025-08-06 15:23:51</td>\n",
       "      <td>135.0</td>\n",
       "    </tr>\n",
       "    <tr>\n",
       "      <th>1510059</th>\n",
       "      <td>1588625.0</td>\n",
       "      <td>880630.0</td>\n",
       "      <td>2025-08-06 15:25:19</td>\n",
       "      <td>55.0</td>\n",
       "    </tr>\n",
       "  </tbody>\n",
       "</table>\n",
       "</div>"
      ],
      "text/plain": [
       "          order_id  customer_id          entry_time  order_total\n",
       "1510050  1588616.0     323786.0 2025-08-06 15:08:39         90.0\n",
       "1510051  1588617.0     381457.0 2025-08-06 15:08:50         35.0\n",
       "1510052  1588618.0     935854.0 2025-08-06 15:09:15         35.0\n",
       "1510053  1588619.0     802832.0 2025-08-06 15:10:20         85.0\n",
       "1510054  1588620.0     935855.0 2025-08-06 15:13:44         60.0\n",
       "1510055  1588621.0     258255.0 2025-08-06 15:20:36         41.0\n",
       "1510056  1588622.0     735520.0 2025-08-06 15:23:35         60.0\n",
       "1510057  1588623.0     372708.0 2025-08-06 15:23:35        100.0\n",
       "1510058  1588624.0     935598.0 2025-08-06 15:23:51        135.0\n",
       "1510059  1588625.0     880630.0 2025-08-06 15:25:19         55.0"
      ]
     },
     "execution_count": 13,
     "metadata": {},
     "output_type": "execute_result"
    }
   ],
   "source": [
    "df.tail(10)"
   ]
  },
  {
   "cell_type": "code",
   "execution_count": null,
   "id": "a789a542",
   "metadata": {},
   "outputs": [],
   "source": [
    "mom_conn.close()"
   ]
  },
  {
   "cell_type": "code",
   "execution_count": null,
   "id": "74918ebb",
   "metadata": {},
   "outputs": [],
   "source": [
    "#!gcloud auth application-default login"
   ]
  },
  {
   "cell_type": "code",
   "execution_count": null,
   "id": "236bae3c",
   "metadata": {},
   "outputs": [
    {
     "name": "stdout",
     "output_type": "stream",
     "text": [
      "Loaded 1510060 rows into orders\n"
     ]
    },
    {
     "ename": "",
     "evalue": "",
     "output_type": "error",
     "traceback": [
      "\u001b[1;31mThe Kernel crashed while executing code in the current cell or a previous cell. \n",
      "\u001b[1;31mPlease review the code in the cell(s) to identify a possible cause of the failure. \n",
      "\u001b[1;31mClick <a href='https://aka.ms/vscodeJupyterKernelCrash'>here</a> for more info. \n",
      "\u001b[1;31mView Jupyter <a href='command:jupyter.viewOutput'>log</a> for further details."
     ]
    }
   ],
   "source": [
    "# Configure load job — let schema be auto-detected\n",
    "job_config = bigquery.LoadJobConfig(\n",
    "    autodetect = True,              # This makes schema generation automatic\n",
    "    write_disposition = \"WRITE_APPEND\"  # Or WRITE_TRUNCATE / WRITE_EMPTY\n",
    ")\n",
    "\n",
    "# Load DataFrame into BigQuery\n",
    "job = bq_client.load_table_from_dataframe(\n",
    "    df,\n",
    "    f\"{DATASET_ID}.{TABLE_IDS['orders']}\",\n",
    "    job_config=job_config\n",
    ")\n",
    "job.result()  # Wait for the load to complete\n",
    "\n",
    "print(\"Loaded {} rows into {}\".format(df.shape[0], TABLE_IDS['orders']))"
   ]
  },
  {
   "cell_type": "code",
   "execution_count": null,
   "id": "82cda87e",
   "metadata": {},
   "outputs": [
    {
     "name": "stderr",
     "output_type": "stream",
     "text": [
      "c:\\Users\\danny.sloan\\AppData\\Local\\Programs\\Python\\Python313\\Lib\\site-packages\\google\\cloud\\bigquery\\table.py:1965: UserWarning: BigQuery Storage module not found, fetch data with the REST endpoint instead.\n",
      "  warnings.warn(\n"
     ]
    }
   ],
   "source": [
    "query = f\"\"\"\n",
    "    SELECT * FROM `{DATASET_ID}.{TABLE_IDS['orders']}`\n",
    "\"\"\"\n",
    "\n",
    "# Run query and return results as a DataFrame\n",
    "df = bq_client.query(query).to_dataframe()"
   ]
  },
  {
   "cell_type": "code",
   "execution_count": null,
   "id": "392b438f",
   "metadata": {},
   "outputs": [
    {
     "data": {
      "text/plain": [
       "(1510042, 5)"
      ]
     },
     "execution_count": 13,
     "metadata": {},
     "output_type": "execute_result"
    }
   ],
   "source": [
    "df.shape"
   ]
  },
  {
   "cell_type": "code",
   "execution_count": null,
   "id": "a3e48404",
   "metadata": {},
   "outputs": [
    {
     "data": {
      "text/html": [
       "<div>\n",
       "<style scoped>\n",
       "    .dataframe tbody tr th:only-of-type {\n",
       "        vertical-align: middle;\n",
       "    }\n",
       "\n",
       "    .dataframe tbody tr th {\n",
       "        vertical-align: top;\n",
       "    }\n",
       "\n",
       "    .dataframe thead th {\n",
       "        text-align: right;\n",
       "    }\n",
       "</style>\n",
       "<table border=\"1\" class=\"dataframe\">\n",
       "  <thead>\n",
       "    <tr style=\"text-align: right;\">\n",
       "      <th></th>\n",
       "      <th>order_id</th>\n",
       "      <th>customer_id</th>\n",
       "      <th>entry_time</th>\n",
       "      <th>order_total</th>\n",
       "      <th>check_amount</th>\n",
       "    </tr>\n",
       "  </thead>\n",
       "  <tbody>\n",
       "    <tr>\n",
       "      <th>0</th>\n",
       "      <td>2.0</td>\n",
       "      <td>42850.0</td>\n",
       "      <td>2004-03-31 12:52:53</td>\n",
       "      <td>4.00</td>\n",
       "      <td>4.00</td>\n",
       "    </tr>\n",
       "    <tr>\n",
       "      <th>1</th>\n",
       "      <td>4.0</td>\n",
       "      <td>42850.0</td>\n",
       "      <td>2004-03-31 15:43:24</td>\n",
       "      <td>11.75</td>\n",
       "      <td>11.75</td>\n",
       "    </tr>\n",
       "    <tr>\n",
       "      <th>2</th>\n",
       "      <td>12.0</td>\n",
       "      <td>42873.0</td>\n",
       "      <td>2004-04-01 14:50:33</td>\n",
       "      <td>41.97</td>\n",
       "      <td>41.97</td>\n",
       "    </tr>\n",
       "    <tr>\n",
       "      <th>3</th>\n",
       "      <td>14.0</td>\n",
       "      <td>42874.0</td>\n",
       "      <td>2004-04-01 15:52:40</td>\n",
       "      <td>26.97</td>\n",
       "      <td>26.97</td>\n",
       "    </tr>\n",
       "    <tr>\n",
       "      <th>4</th>\n",
       "      <td>15.0</td>\n",
       "      <td>42875.0</td>\n",
       "      <td>2004-04-01 16:10:36</td>\n",
       "      <td>26.97</td>\n",
       "      <td>26.97</td>\n",
       "    </tr>\n",
       "    <tr>\n",
       "      <th>5</th>\n",
       "      <td>23.0</td>\n",
       "      <td>42886.0</td>\n",
       "      <td>2004-04-02 10:23:12</td>\n",
       "      <td>17.98</td>\n",
       "      <td>17.98</td>\n",
       "    </tr>\n",
       "    <tr>\n",
       "      <th>6</th>\n",
       "      <td>26.0</td>\n",
       "      <td>42888.0</td>\n",
       "      <td>2004-04-02 11:45:34</td>\n",
       "      <td>19.99</td>\n",
       "      <td>19.99</td>\n",
       "    </tr>\n",
       "    <tr>\n",
       "      <th>7</th>\n",
       "      <td>35.0</td>\n",
       "      <td>42895.0</td>\n",
       "      <td>2004-04-02 14:15:04</td>\n",
       "      <td>26.97</td>\n",
       "      <td>26.97</td>\n",
       "    </tr>\n",
       "    <tr>\n",
       "      <th>8</th>\n",
       "      <td>37.0</td>\n",
       "      <td>42898.0</td>\n",
       "      <td>2004-04-02 16:08:21</td>\n",
       "      <td>26.97</td>\n",
       "      <td>26.97</td>\n",
       "    </tr>\n",
       "    <tr>\n",
       "      <th>9</th>\n",
       "      <td>38.0</td>\n",
       "      <td>42904.0</td>\n",
       "      <td>2004-04-05 12:09:29</td>\n",
       "      <td>31.98</td>\n",
       "      <td>31.98</td>\n",
       "    </tr>\n",
       "  </tbody>\n",
       "</table>\n",
       "</div>"
      ],
      "text/plain": [
       "   order_id  customer_id          entry_time  order_total  check_amount\n",
       "0       2.0      42850.0 2004-03-31 12:52:53         4.00          4.00\n",
       "1       4.0      42850.0 2004-03-31 15:43:24        11.75         11.75\n",
       "2      12.0      42873.0 2004-04-01 14:50:33        41.97         41.97\n",
       "3      14.0      42874.0 2004-04-01 15:52:40        26.97         26.97\n",
       "4      15.0      42875.0 2004-04-01 16:10:36        26.97         26.97\n",
       "5      23.0      42886.0 2004-04-02 10:23:12        17.98         17.98\n",
       "6      26.0      42888.0 2004-04-02 11:45:34        19.99         19.99\n",
       "7      35.0      42895.0 2004-04-02 14:15:04        26.97         26.97\n",
       "8      37.0      42898.0 2004-04-02 16:08:21        26.97         26.97\n",
       "9      38.0      42904.0 2004-04-05 12:09:29        31.98         31.98"
      ]
     },
     "execution_count": 14,
     "metadata": {},
     "output_type": "execute_result"
    }
   ],
   "source": [
    "df.head(10)"
   ]
  }
 ],
 "metadata": {
  "kernelspec": {
   "display_name": "Python 3",
   "language": "python",
   "name": "python3"
  },
  "language_info": {
   "codemirror_mode": {
    "name": "ipython",
    "version": 3
   },
   "file_extension": ".py",
   "mimetype": "text/x-python",
   "name": "python",
   "nbconvert_exporter": "python",
   "pygments_lexer": "ipython3",
   "version": "3.13.5"
  }
 },
 "nbformat": 4,
 "nbformat_minor": 5
}
